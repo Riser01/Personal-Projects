{
 "cells": [
  {
   "cell_type": "code",
   "execution_count": 1,
   "metadata": {},
   "outputs": [],
   "source": [
    "#Importing Required Libraries\n",
    "import numpy as np\n",
    "import pandas as pd\n",
    "import matplotlib.pyplot as plt\n",
    "import seaborn as sns\n",
    "pd.options.display.float_format = '{:,.4f}'.format\n",
    "%matplotlib inline\n",
    "from sklearn.linear_model import LinearRegression\n",
    "import statsmodels.api as sm\n",
    "\n",
    "import warnings\n",
    "warnings.filterwarnings('ignore')"
   ]
  },
  {
   "cell_type": "code",
   "execution_count": 2,
   "metadata": {},
   "outputs": [],
   "source": [
    "#The CSV file is imported using the read_csv command given below:\n",
    "housedf = pd.read_csv(\"train.csv\")"
   ]
  },
  {
   "cell_type": "code",
   "execution_count": 3,
   "metadata": {},
   "outputs": [
    {
     "data": {
      "text/html": [
       "<div>\n",
       "<style scoped>\n",
       "    .dataframe tbody tr th:only-of-type {\n",
       "        vertical-align: middle;\n",
       "    }\n",
       "\n",
       "    .dataframe tbody tr th {\n",
       "        vertical-align: top;\n",
       "    }\n",
       "\n",
       "    .dataframe thead th {\n",
       "        text-align: right;\n",
       "    }\n",
       "</style>\n",
       "<table border=\"1\" class=\"dataframe\">\n",
       "  <thead>\n",
       "    <tr style=\"text-align: right;\">\n",
       "      <th></th>\n",
       "      <th>Id</th>\n",
       "      <th>MSSubClass</th>\n",
       "      <th>MSZoning</th>\n",
       "      <th>LotFrontage</th>\n",
       "      <th>LotArea</th>\n",
       "      <th>Street</th>\n",
       "      <th>Alley</th>\n",
       "      <th>LotShape</th>\n",
       "      <th>LandContour</th>\n",
       "      <th>Utilities</th>\n",
       "      <th>...</th>\n",
       "      <th>PoolArea</th>\n",
       "      <th>PoolQC</th>\n",
       "      <th>Fence</th>\n",
       "      <th>MiscFeature</th>\n",
       "      <th>MiscVal</th>\n",
       "      <th>MoSold</th>\n",
       "      <th>YrSold</th>\n",
       "      <th>SaleType</th>\n",
       "      <th>SaleCondition</th>\n",
       "      <th>SalePrice</th>\n",
       "    </tr>\n",
       "  </thead>\n",
       "  <tbody>\n",
       "    <tr>\n",
       "      <th>0</th>\n",
       "      <td>1</td>\n",
       "      <td>60</td>\n",
       "      <td>RL</td>\n",
       "      <td>65.0000</td>\n",
       "      <td>8450</td>\n",
       "      <td>Pave</td>\n",
       "      <td>NaN</td>\n",
       "      <td>Reg</td>\n",
       "      <td>Lvl</td>\n",
       "      <td>AllPub</td>\n",
       "      <td>...</td>\n",
       "      <td>0</td>\n",
       "      <td>NaN</td>\n",
       "      <td>NaN</td>\n",
       "      <td>NaN</td>\n",
       "      <td>0</td>\n",
       "      <td>2</td>\n",
       "      <td>2008</td>\n",
       "      <td>WD</td>\n",
       "      <td>Normal</td>\n",
       "      <td>208500</td>\n",
       "    </tr>\n",
       "    <tr>\n",
       "      <th>1</th>\n",
       "      <td>2</td>\n",
       "      <td>20</td>\n",
       "      <td>RL</td>\n",
       "      <td>80.0000</td>\n",
       "      <td>9600</td>\n",
       "      <td>Pave</td>\n",
       "      <td>NaN</td>\n",
       "      <td>Reg</td>\n",
       "      <td>Lvl</td>\n",
       "      <td>AllPub</td>\n",
       "      <td>...</td>\n",
       "      <td>0</td>\n",
       "      <td>NaN</td>\n",
       "      <td>NaN</td>\n",
       "      <td>NaN</td>\n",
       "      <td>0</td>\n",
       "      <td>5</td>\n",
       "      <td>2007</td>\n",
       "      <td>WD</td>\n",
       "      <td>Normal</td>\n",
       "      <td>181500</td>\n",
       "    </tr>\n",
       "    <tr>\n",
       "      <th>2</th>\n",
       "      <td>3</td>\n",
       "      <td>60</td>\n",
       "      <td>RL</td>\n",
       "      <td>68.0000</td>\n",
       "      <td>11250</td>\n",
       "      <td>Pave</td>\n",
       "      <td>NaN</td>\n",
       "      <td>IR1</td>\n",
       "      <td>Lvl</td>\n",
       "      <td>AllPub</td>\n",
       "      <td>...</td>\n",
       "      <td>0</td>\n",
       "      <td>NaN</td>\n",
       "      <td>NaN</td>\n",
       "      <td>NaN</td>\n",
       "      <td>0</td>\n",
       "      <td>9</td>\n",
       "      <td>2008</td>\n",
       "      <td>WD</td>\n",
       "      <td>Normal</td>\n",
       "      <td>223500</td>\n",
       "    </tr>\n",
       "    <tr>\n",
       "      <th>3</th>\n",
       "      <td>4</td>\n",
       "      <td>70</td>\n",
       "      <td>RL</td>\n",
       "      <td>60.0000</td>\n",
       "      <td>9550</td>\n",
       "      <td>Pave</td>\n",
       "      <td>NaN</td>\n",
       "      <td>IR1</td>\n",
       "      <td>Lvl</td>\n",
       "      <td>AllPub</td>\n",
       "      <td>...</td>\n",
       "      <td>0</td>\n",
       "      <td>NaN</td>\n",
       "      <td>NaN</td>\n",
       "      <td>NaN</td>\n",
       "      <td>0</td>\n",
       "      <td>2</td>\n",
       "      <td>2006</td>\n",
       "      <td>WD</td>\n",
       "      <td>Abnorml</td>\n",
       "      <td>140000</td>\n",
       "    </tr>\n",
       "    <tr>\n",
       "      <th>4</th>\n",
       "      <td>5</td>\n",
       "      <td>60</td>\n",
       "      <td>RL</td>\n",
       "      <td>84.0000</td>\n",
       "      <td>14260</td>\n",
       "      <td>Pave</td>\n",
       "      <td>NaN</td>\n",
       "      <td>IR1</td>\n",
       "      <td>Lvl</td>\n",
       "      <td>AllPub</td>\n",
       "      <td>...</td>\n",
       "      <td>0</td>\n",
       "      <td>NaN</td>\n",
       "      <td>NaN</td>\n",
       "      <td>NaN</td>\n",
       "      <td>0</td>\n",
       "      <td>12</td>\n",
       "      <td>2008</td>\n",
       "      <td>WD</td>\n",
       "      <td>Normal</td>\n",
       "      <td>250000</td>\n",
       "    </tr>\n",
       "    <tr>\n",
       "      <th>5</th>\n",
       "      <td>6</td>\n",
       "      <td>50</td>\n",
       "      <td>RL</td>\n",
       "      <td>85.0000</td>\n",
       "      <td>14115</td>\n",
       "      <td>Pave</td>\n",
       "      <td>NaN</td>\n",
       "      <td>IR1</td>\n",
       "      <td>Lvl</td>\n",
       "      <td>AllPub</td>\n",
       "      <td>...</td>\n",
       "      <td>0</td>\n",
       "      <td>NaN</td>\n",
       "      <td>MnPrv</td>\n",
       "      <td>Shed</td>\n",
       "      <td>700</td>\n",
       "      <td>10</td>\n",
       "      <td>2009</td>\n",
       "      <td>WD</td>\n",
       "      <td>Normal</td>\n",
       "      <td>143000</td>\n",
       "    </tr>\n",
       "    <tr>\n",
       "      <th>6</th>\n",
       "      <td>7</td>\n",
       "      <td>20</td>\n",
       "      <td>RL</td>\n",
       "      <td>75.0000</td>\n",
       "      <td>10084</td>\n",
       "      <td>Pave</td>\n",
       "      <td>NaN</td>\n",
       "      <td>Reg</td>\n",
       "      <td>Lvl</td>\n",
       "      <td>AllPub</td>\n",
       "      <td>...</td>\n",
       "      <td>0</td>\n",
       "      <td>NaN</td>\n",
       "      <td>NaN</td>\n",
       "      <td>NaN</td>\n",
       "      <td>0</td>\n",
       "      <td>8</td>\n",
       "      <td>2007</td>\n",
       "      <td>WD</td>\n",
       "      <td>Normal</td>\n",
       "      <td>307000</td>\n",
       "    </tr>\n",
       "    <tr>\n",
       "      <th>7</th>\n",
       "      <td>8</td>\n",
       "      <td>60</td>\n",
       "      <td>RL</td>\n",
       "      <td>nan</td>\n",
       "      <td>10382</td>\n",
       "      <td>Pave</td>\n",
       "      <td>NaN</td>\n",
       "      <td>IR1</td>\n",
       "      <td>Lvl</td>\n",
       "      <td>AllPub</td>\n",
       "      <td>...</td>\n",
       "      <td>0</td>\n",
       "      <td>NaN</td>\n",
       "      <td>NaN</td>\n",
       "      <td>Shed</td>\n",
       "      <td>350</td>\n",
       "      <td>11</td>\n",
       "      <td>2009</td>\n",
       "      <td>WD</td>\n",
       "      <td>Normal</td>\n",
       "      <td>200000</td>\n",
       "    </tr>\n",
       "    <tr>\n",
       "      <th>8</th>\n",
       "      <td>9</td>\n",
       "      <td>50</td>\n",
       "      <td>RM</td>\n",
       "      <td>51.0000</td>\n",
       "      <td>6120</td>\n",
       "      <td>Pave</td>\n",
       "      <td>NaN</td>\n",
       "      <td>Reg</td>\n",
       "      <td>Lvl</td>\n",
       "      <td>AllPub</td>\n",
       "      <td>...</td>\n",
       "      <td>0</td>\n",
       "      <td>NaN</td>\n",
       "      <td>NaN</td>\n",
       "      <td>NaN</td>\n",
       "      <td>0</td>\n",
       "      <td>4</td>\n",
       "      <td>2008</td>\n",
       "      <td>WD</td>\n",
       "      <td>Abnorml</td>\n",
       "      <td>129900</td>\n",
       "    </tr>\n",
       "    <tr>\n",
       "      <th>9</th>\n",
       "      <td>10</td>\n",
       "      <td>190</td>\n",
       "      <td>RL</td>\n",
       "      <td>50.0000</td>\n",
       "      <td>7420</td>\n",
       "      <td>Pave</td>\n",
       "      <td>NaN</td>\n",
       "      <td>Reg</td>\n",
       "      <td>Lvl</td>\n",
       "      <td>AllPub</td>\n",
       "      <td>...</td>\n",
       "      <td>0</td>\n",
       "      <td>NaN</td>\n",
       "      <td>NaN</td>\n",
       "      <td>NaN</td>\n",
       "      <td>0</td>\n",
       "      <td>1</td>\n",
       "      <td>2008</td>\n",
       "      <td>WD</td>\n",
       "      <td>Normal</td>\n",
       "      <td>118000</td>\n",
       "    </tr>\n",
       "  </tbody>\n",
       "</table>\n",
       "<p>10 rows × 81 columns</p>\n",
       "</div>"
      ],
      "text/plain": [
       "   Id  MSSubClass MSZoning  LotFrontage  LotArea Street Alley LotShape  \\\n",
       "0   1          60       RL      65.0000     8450   Pave   NaN      Reg   \n",
       "1   2          20       RL      80.0000     9600   Pave   NaN      Reg   \n",
       "2   3          60       RL      68.0000    11250   Pave   NaN      IR1   \n",
       "3   4          70       RL      60.0000     9550   Pave   NaN      IR1   \n",
       "4   5          60       RL      84.0000    14260   Pave   NaN      IR1   \n",
       "5   6          50       RL      85.0000    14115   Pave   NaN      IR1   \n",
       "6   7          20       RL      75.0000    10084   Pave   NaN      Reg   \n",
       "7   8          60       RL          nan    10382   Pave   NaN      IR1   \n",
       "8   9          50       RM      51.0000     6120   Pave   NaN      Reg   \n",
       "9  10         190       RL      50.0000     7420   Pave   NaN      Reg   \n",
       "\n",
       "  LandContour Utilities    ...     PoolArea PoolQC  Fence MiscFeature MiscVal  \\\n",
       "0         Lvl    AllPub    ...            0    NaN    NaN         NaN       0   \n",
       "1         Lvl    AllPub    ...            0    NaN    NaN         NaN       0   \n",
       "2         Lvl    AllPub    ...            0    NaN    NaN         NaN       0   \n",
       "3         Lvl    AllPub    ...            0    NaN    NaN         NaN       0   \n",
       "4         Lvl    AllPub    ...            0    NaN    NaN         NaN       0   \n",
       "5         Lvl    AllPub    ...            0    NaN  MnPrv        Shed     700   \n",
       "6         Lvl    AllPub    ...            0    NaN    NaN         NaN       0   \n",
       "7         Lvl    AllPub    ...            0    NaN    NaN        Shed     350   \n",
       "8         Lvl    AllPub    ...            0    NaN    NaN         NaN       0   \n",
       "9         Lvl    AllPub    ...            0    NaN    NaN         NaN       0   \n",
       "\n",
       "  MoSold YrSold  SaleType  SaleCondition  SalePrice  \n",
       "0      2   2008        WD         Normal     208500  \n",
       "1      5   2007        WD         Normal     181500  \n",
       "2      9   2008        WD         Normal     223500  \n",
       "3      2   2006        WD        Abnorml     140000  \n",
       "4     12   2008        WD         Normal     250000  \n",
       "5     10   2009        WD         Normal     143000  \n",
       "6      8   2007        WD         Normal     307000  \n",
       "7     11   2009        WD         Normal     200000  \n",
       "8      4   2008        WD        Abnorml     129900  \n",
       "9      1   2008        WD         Normal     118000  \n",
       "\n",
       "[10 rows x 81 columns]"
      ]
     },
     "execution_count": 3,
     "metadata": {},
     "output_type": "execute_result"
    }
   ],
   "source": [
    "#The first ten rows of the loan Dataframe are displayed below:\n",
    "housedf.head(10)"
   ]
  },
  {
   "cell_type": "code",
   "execution_count": 4,
   "metadata": {},
   "outputs": [
    {
     "name": "stdout",
     "output_type": "stream",
     "text": [
      "(1460, 81)\n"
     ]
    }
   ],
   "source": [
    "#The DataFrame is analysed using the below commands. \n",
    "print(housedf.shape)\n",
    "#print(housedf.info())"
   ]
  },
  {
   "cell_type": "markdown",
   "metadata": {},
   "source": [
    "# The percentage of missing values in the loan dataframe is calculated below"
   ]
  },
  {
   "cell_type": "code",
   "execution_count": 5,
   "metadata": {},
   "outputs": [
    {
     "data": {
      "text/plain": [
       "LotFrontage    17.7400\n",
       "Alley          93.7700\n",
       "MasVnrType      0.5500\n",
       "MasVnrArea      0.5500\n",
       "BsmtQual        2.5300\n",
       "BsmtCond        2.5300\n",
       "BsmtExposure    2.6000\n",
       "BsmtFinType1    2.5300\n",
       "BsmtFinType2    2.6000\n",
       "Electrical      0.0700\n",
       "FireplaceQu    47.2600\n",
       "GarageType      5.5500\n",
       "GarageYrBlt     5.5500\n",
       "GarageFinish    5.5500\n",
       "GarageQual      5.5500\n",
       "GarageCond      5.5500\n",
       "PoolQC         99.5200\n",
       "Fence          80.7500\n",
       "MiscFeature    96.3000\n",
       "dtype: float64"
      ]
     },
     "execution_count": 5,
     "metadata": {},
     "output_type": "execute_result"
    }
   ],
   "source": [
    "#the following columns have missing values\n",
    "round(100*(housedf.isnull().sum()/len(housedf.index)),2)[round(100*(housedf.isnull().sum()/len(housedf.index)),2)>0]"
   ]
  },
  {
   "cell_type": "markdown",
   "metadata": {},
   "source": [
    "### Replaceing Null Values"
   ]
  },
  {
   "cell_type": "code",
   "execution_count": 6,
   "metadata": {},
   "outputs": [],
   "source": [
    "# replace all na values with default none or o 0\n",
    "housedf['PoolQC'] = housedf['PoolQC'].fillna('None')\n",
    "housedf['MiscFeature'] = housedf['MiscFeature'].fillna('None')\n",
    "housedf[\"MasVnrType\"] = housedf[\"MasVnrType\"].fillna(\"None\")\n",
    "housedf[\"MasVnrArea\"] = housedf[\"MasVnrArea\"].fillna(0)\n",
    "housedf['Alley'] = housedf['Alley'].fillna('None')\n",
    "housedf['Fence'] = housedf['Fence'].fillna('None')\n",
    "housedf['MSZoning'] = housedf['MSZoning'].fillna(housedf['MSZoning'].mode()[0])\n",
    "housedf['FireplaceQu'] = housedf['FireplaceQu'].fillna('None')\n",
    "housedf[\"LotFrontage\"] = housedf.groupby(\"Neighborhood\")[\"LotFrontage\"].transform(\n",
    "    lambda x: x.fillna(x.median()))\n",
    "housedf['GarageType'] = housedf['GarageType'].fillna('None')\n",
    "housedf[\"Functional\"] = housedf[\"Functional\"].fillna(\"Typ\")\n",
    "housedf['SaleType'] = housedf['SaleType'].fillna(housedf['SaleType'].mode()[0])\n",
    "housedf['GarageFinish'] = housedf['GarageFinish'].fillna('None')\n",
    "housedf['MSSubClass'] = housedf['MSSubClass'].fillna(\"None\")\n",
    "housedf['Exterior1st'] = housedf['Exterior1st'].fillna(housedf['Exterior1st'].mode()[0])\n",
    "housedf['Exterior2nd'] = housedf['Exterior2nd'].fillna(housedf['Exterior2nd'].mode()[0])\n",
    "housedf['GarageQual'] = housedf['GarageQual'].fillna('None')\n",
    "housedf['GarageCond'] = housedf['GarageCond'].fillna('None')\n",
    "housedf['KitchenQual'] = housedf['KitchenQual'].fillna(housedf['KitchenQual'].mode()[0])\n",
    "housedf['Electrical'] = housedf['Electrical'].fillna(housedf['Electrical'].mode()[0])\n",
    "for col in ('GarageYrBlt', 'GarageArea', 'GarageCars','BsmtFinSF1', 'BsmtFinSF2', 'BsmtUnfSF','TotalBsmtSF', 'BsmtFullBath', 'BsmtHalfBath'):\n",
    "    housedf[col] = housedf[col].fillna(0)\n",
    "for col in ('BsmtQual', 'BsmtCond', 'BsmtExposure', 'BsmtFinType1', 'BsmtFinType2'):\n",
    "    housedf[col] = housedf[col].fillna('None')"
   ]
  },
  {
   "cell_type": "code",
   "execution_count": 7,
   "metadata": {},
   "outputs": [
    {
     "data": {
      "text/plain": [
       "Series([], dtype: float64)"
      ]
     },
     "execution_count": 7,
     "metadata": {},
     "output_type": "execute_result"
    }
   ],
   "source": [
    "round(100*(housedf.isnull().sum()/len(housedf.index)),2)[round(100*(housedf.isnull().sum()/len(housedf.index)),2)>0]"
   ]
  },
  {
   "cell_type": "code",
   "execution_count": 8,
   "metadata": {},
   "outputs": [
    {
     "data": {
      "text/plain": [
       "Index(['Id', 'MSSubClass', 'MSZoning', 'LotFrontage', 'LotArea', 'Street',\n",
       "       'Alley', 'LotShape', 'LandContour', 'Utilities', 'LotConfig',\n",
       "       'LandSlope', 'Neighborhood', 'Condition1', 'Condition2', 'BldgType',\n",
       "       'HouseStyle', 'OverallQual', 'OverallCond', 'YearBuilt', 'YearRemodAdd',\n",
       "       'RoofStyle', 'RoofMatl', 'Exterior1st', 'Exterior2nd', 'MasVnrType',\n",
       "       'MasVnrArea', 'ExterQual', 'ExterCond', 'Foundation', 'BsmtQual',\n",
       "       'BsmtCond', 'BsmtExposure', 'BsmtFinType1', 'BsmtFinSF1',\n",
       "       'BsmtFinType2', 'BsmtFinSF2', 'BsmtUnfSF', 'TotalBsmtSF', 'Heating',\n",
       "       'HeatingQC', 'CentralAir', 'Electrical', '1stFlrSF', '2ndFlrSF',\n",
       "       'LowQualFinSF', 'GrLivArea', 'BsmtFullBath', 'BsmtHalfBath', 'FullBath',\n",
       "       'HalfBath', 'BedroomAbvGr', 'KitchenAbvGr', 'KitchenQual',\n",
       "       'TotRmsAbvGrd', 'Functional', 'Fireplaces', 'FireplaceQu', 'GarageType',\n",
       "       'GarageYrBlt', 'GarageFinish', 'GarageCars', 'GarageArea', 'GarageQual',\n",
       "       'GarageCond', 'PavedDrive', 'WoodDeckSF', 'OpenPorchSF',\n",
       "       'EnclosedPorch', '3SsnPorch', 'ScreenPorch', 'PoolArea', 'PoolQC',\n",
       "       'Fence', 'MiscFeature', 'MiscVal', 'MoSold', 'YrSold', 'SaleType',\n",
       "       'SaleCondition', 'SalePrice'],\n",
       "      dtype='object')"
      ]
     },
     "execution_count": 8,
     "metadata": {},
     "output_type": "execute_result"
    }
   ],
   "source": [
    "housedf.columns"
   ]
  },
  {
   "cell_type": "code",
   "execution_count": 9,
   "metadata": {},
   "outputs": [],
   "source": [
    "# droping ID column\n",
    "housedf = housedf.drop('Id',axis=1)"
   ]
  },
  {
   "cell_type": "markdown",
   "metadata": {},
   "source": [
    "## Createing Derived Columns"
   ]
  },
  {
   "cell_type": "code",
   "execution_count": 10,
   "metadata": {},
   "outputs": [
    {
     "data": {
      "text/html": [
       "<div>\n",
       "<style scoped>\n",
       "    .dataframe tbody tr th:only-of-type {\n",
       "        vertical-align: middle;\n",
       "    }\n",
       "\n",
       "    .dataframe tbody tr th {\n",
       "        vertical-align: top;\n",
       "    }\n",
       "\n",
       "    .dataframe thead th {\n",
       "        text-align: right;\n",
       "    }\n",
       "</style>\n",
       "<table border=\"1\" class=\"dataframe\">\n",
       "  <thead>\n",
       "    <tr style=\"text-align: right;\">\n",
       "      <th></th>\n",
       "      <th>MSSubClass</th>\n",
       "      <th>MSZoning</th>\n",
       "      <th>LotFrontage</th>\n",
       "      <th>LotArea</th>\n",
       "      <th>Street</th>\n",
       "      <th>Alley</th>\n",
       "      <th>LotShape</th>\n",
       "      <th>LandContour</th>\n",
       "      <th>Utilities</th>\n",
       "      <th>LotConfig</th>\n",
       "      <th>...</th>\n",
       "      <th>MoSold</th>\n",
       "      <th>YrSold</th>\n",
       "      <th>SaleType</th>\n",
       "      <th>SaleCondition</th>\n",
       "      <th>SalePrice</th>\n",
       "      <th>AgeBuilt</th>\n",
       "      <th>AgeRemodAdd</th>\n",
       "      <th>AgeGarageYrBlt</th>\n",
       "      <th>AgeSold</th>\n",
       "      <th>TotalSF</th>\n",
       "    </tr>\n",
       "  </thead>\n",
       "  <tbody>\n",
       "    <tr>\n",
       "      <th>0</th>\n",
       "      <td>60</td>\n",
       "      <td>RL</td>\n",
       "      <td>65.0000</td>\n",
       "      <td>8450</td>\n",
       "      <td>Pave</td>\n",
       "      <td>None</td>\n",
       "      <td>Reg</td>\n",
       "      <td>Lvl</td>\n",
       "      <td>AllPub</td>\n",
       "      <td>Inside</td>\n",
       "      <td>...</td>\n",
       "      <td>2</td>\n",
       "      <td>2008</td>\n",
       "      <td>WD</td>\n",
       "      <td>Normal</td>\n",
       "      <td>208500</td>\n",
       "      <td>16</td>\n",
       "      <td>16</td>\n",
       "      <td>16.0000</td>\n",
       "      <td>11.1667</td>\n",
       "      <td>2566</td>\n",
       "    </tr>\n",
       "    <tr>\n",
       "      <th>1</th>\n",
       "      <td>20</td>\n",
       "      <td>RL</td>\n",
       "      <td>80.0000</td>\n",
       "      <td>9600</td>\n",
       "      <td>Pave</td>\n",
       "      <td>None</td>\n",
       "      <td>Reg</td>\n",
       "      <td>Lvl</td>\n",
       "      <td>AllPub</td>\n",
       "      <td>FR2</td>\n",
       "      <td>...</td>\n",
       "      <td>5</td>\n",
       "      <td>2007</td>\n",
       "      <td>WD</td>\n",
       "      <td>Normal</td>\n",
       "      <td>181500</td>\n",
       "      <td>43</td>\n",
       "      <td>43</td>\n",
       "      <td>43.0000</td>\n",
       "      <td>12.4167</td>\n",
       "      <td>2524</td>\n",
       "    </tr>\n",
       "    <tr>\n",
       "      <th>2</th>\n",
       "      <td>60</td>\n",
       "      <td>RL</td>\n",
       "      <td>68.0000</td>\n",
       "      <td>11250</td>\n",
       "      <td>Pave</td>\n",
       "      <td>None</td>\n",
       "      <td>IR1</td>\n",
       "      <td>Lvl</td>\n",
       "      <td>AllPub</td>\n",
       "      <td>Inside</td>\n",
       "      <td>...</td>\n",
       "      <td>9</td>\n",
       "      <td>2008</td>\n",
       "      <td>WD</td>\n",
       "      <td>Normal</td>\n",
       "      <td>223500</td>\n",
       "      <td>18</td>\n",
       "      <td>17</td>\n",
       "      <td>18.0000</td>\n",
       "      <td>11.7500</td>\n",
       "      <td>2706</td>\n",
       "    </tr>\n",
       "    <tr>\n",
       "      <th>3</th>\n",
       "      <td>70</td>\n",
       "      <td>RL</td>\n",
       "      <td>60.0000</td>\n",
       "      <td>9550</td>\n",
       "      <td>Pave</td>\n",
       "      <td>None</td>\n",
       "      <td>IR1</td>\n",
       "      <td>Lvl</td>\n",
       "      <td>AllPub</td>\n",
       "      <td>Corner</td>\n",
       "      <td>...</td>\n",
       "      <td>2</td>\n",
       "      <td>2006</td>\n",
       "      <td>WD</td>\n",
       "      <td>Abnorml</td>\n",
       "      <td>140000</td>\n",
       "      <td>104</td>\n",
       "      <td>49</td>\n",
       "      <td>21.0000</td>\n",
       "      <td>13.1667</td>\n",
       "      <td>2473</td>\n",
       "    </tr>\n",
       "    <tr>\n",
       "      <th>4</th>\n",
       "      <td>60</td>\n",
       "      <td>RL</td>\n",
       "      <td>84.0000</td>\n",
       "      <td>14260</td>\n",
       "      <td>Pave</td>\n",
       "      <td>None</td>\n",
       "      <td>IR1</td>\n",
       "      <td>Lvl</td>\n",
       "      <td>AllPub</td>\n",
       "      <td>FR2</td>\n",
       "      <td>...</td>\n",
       "      <td>12</td>\n",
       "      <td>2008</td>\n",
       "      <td>WD</td>\n",
       "      <td>Normal</td>\n",
       "      <td>250000</td>\n",
       "      <td>19</td>\n",
       "      <td>19</td>\n",
       "      <td>19.0000</td>\n",
       "      <td>12.0000</td>\n",
       "      <td>3343</td>\n",
       "    </tr>\n",
       "  </tbody>\n",
       "</table>\n",
       "<p>5 rows × 85 columns</p>\n",
       "</div>"
      ],
      "text/plain": [
       "   MSSubClass MSZoning  LotFrontage  LotArea Street Alley LotShape  \\\n",
       "0          60       RL      65.0000     8450   Pave  None      Reg   \n",
       "1          20       RL      80.0000     9600   Pave  None      Reg   \n",
       "2          60       RL      68.0000    11250   Pave  None      IR1   \n",
       "3          70       RL      60.0000     9550   Pave  None      IR1   \n",
       "4          60       RL      84.0000    14260   Pave  None      IR1   \n",
       "\n",
       "  LandContour Utilities LotConfig   ...    MoSold YrSold SaleType  \\\n",
       "0         Lvl    AllPub    Inside   ...         2   2008       WD   \n",
       "1         Lvl    AllPub       FR2   ...         5   2007       WD   \n",
       "2         Lvl    AllPub    Inside   ...         9   2008       WD   \n",
       "3         Lvl    AllPub    Corner   ...         2   2006       WD   \n",
       "4         Lvl    AllPub       FR2   ...        12   2008       WD   \n",
       "\n",
       "  SaleCondition SalePrice AgeBuilt  AgeRemodAdd  AgeGarageYrBlt  AgeSold  \\\n",
       "0        Normal    208500       16           16         16.0000  11.1667   \n",
       "1        Normal    181500       43           43         43.0000  12.4167   \n",
       "2        Normal    223500       18           17         18.0000  11.7500   \n",
       "3       Abnorml    140000      104           49         21.0000  13.1667   \n",
       "4        Normal    250000       19           19         19.0000  12.0000   \n",
       "\n",
       "   TotalSF  \n",
       "0     2566  \n",
       "1     2524  \n",
       "2     2706  \n",
       "3     2473  \n",
       "4     3343  \n",
       "\n",
       "[5 rows x 85 columns]"
      ]
     },
     "execution_count": 10,
     "metadata": {},
     "output_type": "execute_result"
    }
   ],
   "source": [
    "#genrating Age from year \n",
    "housedf['AgeBuilt']=2019-housedf['YearBuilt']\n",
    "housedf['AgeRemodAdd']=2019-housedf['YearRemodAdd']\n",
    "housedf['AgeGarageYrBlt']=2019-housedf['GarageYrBlt']\n",
    "housedf[\"AgeSold\"]=housedf.apply(lambda row: 2019-row['YrSold'] + (row['MoSold']/12) ,axis=1)\n",
    "housedf['TotalSF'] = housedf['TotalBsmtSF'] + housedf['1stFlrSF'] + housedf['2ndFlrSF']\n",
    "housedf.head()"
   ]
  },
  {
   "cell_type": "code",
   "execution_count": 11,
   "metadata": {},
   "outputs": [],
   "source": [
    "#Droping redundent data\n",
    "housedf = housedf.drop(['YrSold','MoSold','YearBuilt','YearRemodAdd','GarageYrBlt',\n",
    "                        'TotalBsmtSF','1stFlrSF','2ndFlrSF'],axis=1)\n"
   ]
  },
  {
   "cell_type": "code",
   "execution_count": 12,
   "metadata": {},
   "outputs": [
    {
     "data": {
      "text/plain": [
       "Index(['MSSubClass', 'MSZoning', 'LotFrontage', 'LotArea', 'Street', 'Alley',\n",
       "       'LotShape', 'LandContour', 'Utilities', 'LotConfig', 'LandSlope',\n",
       "       'Neighborhood', 'Condition1', 'Condition2', 'BldgType', 'HouseStyle',\n",
       "       'OverallQual', 'OverallCond', 'RoofStyle', 'RoofMatl', 'Exterior1st',\n",
       "       'Exterior2nd', 'MasVnrType', 'MasVnrArea', 'ExterQual', 'ExterCond',\n",
       "       'Foundation', 'BsmtQual', 'BsmtCond', 'BsmtExposure', 'BsmtFinType1',\n",
       "       'BsmtFinSF1', 'BsmtFinType2', 'BsmtFinSF2', 'BsmtUnfSF', 'Heating',\n",
       "       'HeatingQC', 'CentralAir', 'Electrical', 'LowQualFinSF', 'GrLivArea',\n",
       "       'BsmtFullBath', 'BsmtHalfBath', 'FullBath', 'HalfBath', 'BedroomAbvGr',\n",
       "       'KitchenAbvGr', 'KitchenQual', 'TotRmsAbvGrd', 'Functional',\n",
       "       'Fireplaces', 'FireplaceQu', 'GarageType', 'GarageFinish', 'GarageCars',\n",
       "       'GarageArea', 'GarageQual', 'GarageCond', 'PavedDrive', 'WoodDeckSF',\n",
       "       'OpenPorchSF', 'EnclosedPorch', '3SsnPorch', 'ScreenPorch', 'PoolArea',\n",
       "       'PoolQC', 'Fence', 'MiscFeature', 'MiscVal', 'SaleType',\n",
       "       'SaleCondition', 'SalePrice', 'AgeBuilt', 'AgeRemodAdd',\n",
       "       'AgeGarageYrBlt', 'AgeSold', 'TotalSF'],\n",
       "      dtype='object')"
      ]
     },
     "execution_count": 12,
     "metadata": {},
     "output_type": "execute_result"
    }
   ],
   "source": [
    "housedf.columns"
   ]
  },
  {
   "cell_type": "markdown",
   "metadata": {},
   "source": [
    "## conveting to catgorical type"
   ]
  },
  {
   "cell_type": "code",
   "execution_count": 13,
   "metadata": {},
   "outputs": [],
   "source": [
    "concol=['MSSubClass','OverallQual','OverallCond','BsmtFullBath','BsmtHalfBath',\n",
    "        'FullBath','HalfBath','BedroomAbvGr','KitchenAbvGr','TotRmsAbvGrd','Fireplaces']\n",
    "for col in concol:\n",
    "    housedf[col] = housedf[col].astype('object')"
   ]
  },
  {
   "cell_type": "markdown",
   "metadata": {},
   "source": [
    "### Data analysis"
   ]
  },
  {
   "cell_type": "code",
   "execution_count": 14,
   "metadata": {},
   "outputs": [
    {
     "data": {
      "image/png": "[encoded data removed]",
      "text/plain": [
       "<matplotlib.figure.Figure at 0x1c4567a29b0>"
      ]
     },
     "metadata": {},
     "output_type": "display_data"
    }
   ],
   "source": [
    "#correlation matrix\n",
    "plt.matshow(housedf.corr())\n",
    "plt.show()"
   ]
  },
  {
   "cell_type": "code",
   "execution_count": 15,
   "metadata": {},
   "outputs": [
    {
     "data": {
      "image/png": "[encoded data removed]",
      "text/plain": [
       "<matplotlib.figure.Figure at 0x1c45696bb70>"
      ]
     },
     "metadata": {},
     "output_type": "display_data"
    }
   ],
   "source": [
    "# scatterplot age of house to saleprice\n",
    "ax = sns.scatterplot( x='AgeBuilt', y='SalePrice', data=housedf)\n",
    "plt.show()"
   ]
  },
  {
   "cell_type": "code",
   "execution_count": 16,
   "metadata": {},
   "outputs": [
    {
     "data": {
      "image/png": "[encoded data removed]",
      "text/plain": [
       "<matplotlib.figure.Figure at 0x1c45692b518>"
      ]
     },
     "metadata": {},
     "output_type": "display_data"
    }
   ],
   "source": [
    "# scatterplot age of OverallCond to saleprice\n",
    "ax = sns.scatterplot( x='LotArea', y='SalePrice', data=housedf)\n",
    "plt.show()"
   ]
  },
  {
   "cell_type": "code",
   "execution_count": 17,
   "metadata": {},
   "outputs": [
    {
     "data": {
      "image/png": "[encoded data removed]",
      "text/plain": [
       "<matplotlib.figure.Figure at 0x1c456a80ac8>"
      ]
     },
     "metadata": {},
     "output_type": "display_data"
    }
   ],
   "source": [
    "# scatterplot age of OverallCond to saleprice\n",
    "ax = sns.scatterplot( x='MSZoning', y='SalePrice', data=housedf)\n",
    "plt.show()"
   ]
  },
  {
   "cell_type": "code",
   "execution_count": 18,
   "metadata": {},
   "outputs": [
    {
     "data": {
      "image/png": "[encoded data removed]",
      "text/plain": [
       "<matplotlib.figure.Figure at 0x1c456ca1ef0>"
      ]
     },
     "metadata": {},
     "output_type": "display_data"
    }
   ],
   "source": [
    "# scatterplot age of OverallCond to saleprice\n",
    "ax = sns.scatterplot( x='OverallQual', y='SalePrice', data=housedf)\n",
    "plt.show()"
   ]
  },
  {
   "cell_type": "code",
   "execution_count": 19,
   "metadata": {},
   "outputs": [
    {
     "data": {
      "image/png": "[encoded data removed]",
      "text/plain": [
       "<matplotlib.figure.Figure at 0x1c456cd7d68>"
      ]
     },
     "metadata": {},
     "output_type": "display_data"
    }
   ],
   "source": [
    "# scatterplot age of OverallCond to saleprice\n",
    "ax = sns.scatterplot( x='OverallCond', y='SalePrice', data=housedf)\n",
    "plt.show()"
   ]
  },
  {
   "cell_type": "code",
   "execution_count": 20,
   "metadata": {},
   "outputs": [],
   "source": [
    "allcol=housedf.columns\n",
    "numcol= [f for f in housedf.columns if housedf.dtypes[f] != 'object']\n",
    "catcol=list(set(allcol).difference(numcol))\n"
   ]
  },
  {
   "cell_type": "code",
   "execution_count": 21,
   "metadata": {},
   "outputs": [
    {
     "data": {
      "image/png": "[encoded data removed]",
      "text/plain": [
       "<matplotlib.figure.Figure at 0x1c456d9fdd8>"
      ]
     },
     "metadata": {},
     "output_type": "display_data"
    },
    {
     "data": {
      "image/png": "[encoded data removed]",
      "text/plain": [
       "<matplotlib.figure.Figure at 0x1c456de3ba8>"
      ]
     },
     "metadata": {},
     "output_type": "display_data"
    },
    {
     "data": {
      "image/png": "[encoded data removed]",
      "text/plain": [
       "<matplotlib.figure.Figure at 0x1c457df92e8>"
      ]
     },
     "metadata": {},
     "output_type": "display_data"
    },
    {
     "data": {
      "image/png": "[encoded data removed]",
      "text/plain": [
       "<matplotlib.figure.Figure at 0x1c457e449e8>"
      ]
     },
     "metadata": {},
     "output_type": "display_data"
    },
    {
     "data": {
      "image/png": "[encoded data removed]",
      "text/plain": [
       "<matplotlib.figure.Figure at 0x1c457eb9908>"
      ]
     },
     "metadata": {},
     "output_type": "display_data"
    },
    {
     "data": {
      "image/png": "[encoded data removed]",
      "text/plain": [
       "<matplotlib.figure.Figure at 0x1c457f03f98>"
      ]
     },
     "metadata": {},
     "output_type": "display_data"
    },
    {
     "data": {
      "image/png": "[encoded data removed]",
      "text/plain": [
       "<matplotlib.figure.Figure at 0x1c457f2afd0>"
      ]
     },
     "metadata": {},
     "output_type": "display_data"
    },
    {
     "data": {
      "image/png": "[encoded data removed]",
      "text/plain": [
       "<matplotlib.figure.Figure at 0x1c457f71a90>"
      ]
     },
     "metadata": {},
     "output_type": "display_data"
    },
    {
     "data": {
      "image/png": "[encoded data removed]",
      "text/plain": [
       "<matplotlib.figure.Figure at 0x1c457fbfe80>"
      ]
     },
     "metadata": {},
     "output_type": "display_data"
    },
    {
     "data": {
      "image/png": "[encoded data removed]",
      "text/plain": [
       "<matplotlib.figure.Figure at 0x1c45800e4e0>"
      ]
     },
     "metadata": {},
     "output_type": "display_data"
    },
    {
     "data": {
      "image/png": "[encoded data removed]",
      "text/plain": [
       "<matplotlib.figure.Figure at 0x1c458058c50>"
      ]
     },
     "metadata": {},
     "output_type": "display_data"
    },
    {
     "data": {
      "image/png": "[encoded data removed]",
      "text/plain": [
       "<matplotlib.figure.Figure at 0x1c4580ab390>"
      ]
     },
     "metadata": {},
     "output_type": "display_data"
    },
    {
     "data": {
      "image/png": "[encoded data removed]",
      "text/plain": [
       "<matplotlib.figure.Figure at 0x1c456d3f0f0>"
      ]
     },
     "metadata": {},
     "output_type": "display_data"
    },
    {
     "data": {
      "image/png": "[encoded data removed]",
      "text/plain": [
       "<matplotlib.figure.Figure at 0x1c456a81358>"
      ]
     },
     "metadata": {},
     "output_type": "display_data"
    },
    {
     "data": {
      "image/png": "[encoded data removed]",
      "text/plain": [
       "<matplotlib.figure.Figure at 0x1c456c31438>"
      ]
     },
     "metadata": {},
     "output_type": "display_data"
    },
    {
     "data": {
      "image/png": "[encoded data removed]",
      "text/plain": [
       "<matplotlib.figure.Figure at 0x1c456a94e80>"
      ]
     },
     "metadata": {},
     "output_type": "display_data"
    },
    {
     "data": {
      "image/png": "[encoded data removed]",
      "text/plain": [
       "<matplotlib.figure.Figure at 0x1c456bf3eb8>"
      ]
     },
     "metadata": {},
     "output_type": "display_data"
    },
    {
     "data": {
      "image/png": "[encoded data removed]",
      "text/plain": [
       "<matplotlib.figure.Figure at 0x1c456c2f400>"
      ]
     },
     "metadata": {},
     "output_type": "display_data"
    },
    {
     "data": {
      "image/png": "[encoded data removed]",
      "text/plain": [
       "<matplotlib.figure.Figure at 0x1c4580da828>"
      ]
     },
     "metadata": {},
     "output_type": "display_data"
    },
    {
     "data": {
      "image/png": "[encoded data removed]",
      "text/plain": [
       "<matplotlib.figure.Figure at 0x1c45812a4a8>"
      ]
     },
     "metadata": {},
     "output_type": "display_data"
    },
    {
     "data": {
      "image/png": "[encoded data removed]",
      "text/plain": [
       "<matplotlib.figure.Figure at 0x1c458175ba8>"
      ]
     },
     "metadata": {},
     "output_type": "display_data"
    },
    {
     "data": {
      "image/png": "[encoded data removed]",
      "text/plain": [
       "<matplotlib.figure.Figure at 0x1c4581ca828>"
      ]
     },
     "metadata": {},
     "output_type": "display_data"
    },
    {
     "data": {
      "image/png": "[encoded data removed]",
      "text/plain": [
       "<matplotlib.figure.Figure at 0x1c458233e80>"
      ]
     },
     "metadata": {},
     "output_type": "display_data"
    }
   ],
   "source": [
    "\n",
    "for column in numcol:\n",
    "    plt.figure()\n",
    "    housedf.boxplot([column])"
   ]
  },
  {
   "cell_type": "markdown",
   "metadata": {},
   "source": [
    "### Data preparation-hot codeing"
   ]
  },
  {
   "cell_type": "code",
   "execution_count": 22,
   "metadata": {},
   "outputs": [
    {
     "name": "stdout",
     "output_type": "stream",
     "text": [
      "<class 'pandas.core.frame.DataFrame'>\n",
      "RangeIndex: 1460 entries, 0 to 1459\n",
      "Columns: 311 entries, LotFrontage to RoofMatl_WdShngl\n",
      "dtypes: float64(4), int64(19), uint8(288)\n",
      "memory usage: 673.0 KB\n"
     ]
    }
   ],
   "source": [
    "# Creating a dummy variable \n",
    "dummy = pd.get_dummies(housedf[catcol], drop_first=True)\n",
    "\n",
    "# Adding the to the master dataframe\n",
    "house_cat = pd.concat([housedf, dummy], axis=1)\n",
    "house_cat = house_cat.drop(catcol, axis = 1)\n",
    "house_cat.info()"
   ]
  },
  {
   "cell_type": "code",
   "execution_count": 23,
   "metadata": {},
   "outputs": [
    {
     "data": {
      "text/plain": [
       "['LotFrontage',\n",
       " 'LotArea',\n",
       " 'MasVnrArea',\n",
       " 'BsmtFinSF1',\n",
       " 'BsmtFinSF2',\n",
       " 'BsmtUnfSF',\n",
       " 'LowQualFinSF',\n",
       " 'GrLivArea',\n",
       " 'GarageCars',\n",
       " 'GarageArea',\n",
       " 'WoodDeckSF',\n",
       " 'OpenPorchSF',\n",
       " 'EnclosedPorch',\n",
       " '3SsnPorch',\n",
       " 'ScreenPorch',\n",
       " 'PoolArea',\n",
       " 'MiscVal',\n",
       " 'SalePrice',\n",
       " 'AgeBuilt',\n",
       " 'AgeRemodAdd',\n",
       " 'AgeGarageYrBlt',\n",
       " 'AgeSold',\n",
       " 'TotalSF',\n",
       " 'RoofStyle_Gable',\n",
       " 'RoofStyle_Gambrel',\n",
       " 'RoofStyle_Hip',\n",
       " 'RoofStyle_Mansard',\n",
       " 'RoofStyle_Shed',\n",
       " 'Utilities_NoSeWa',\n",
       " 'BsmtQual_Fa',\n",
       " 'BsmtQual_Gd',\n",
       " 'BsmtQual_None',\n",
       " 'BsmtQual_TA',\n",
       " 'ExterQual_Fa',\n",
       " 'ExterQual_Gd',\n",
       " 'ExterQual_TA',\n",
       " 'Functional_Maj2',\n",
       " 'Functional_Min1',\n",
       " 'Functional_Min2',\n",
       " 'Functional_Mod',\n",
       " 'Functional_Sev',\n",
       " 'Functional_Typ',\n",
       " 'FireplaceQu_Fa',\n",
       " 'FireplaceQu_Gd',\n",
       " 'FireplaceQu_None',\n",
       " 'FireplaceQu_Po',\n",
       " 'FireplaceQu_TA',\n",
       " 'Fence_GdWo',\n",
       " 'Fence_MnPrv',\n",
       " 'Fence_MnWw',\n",
       " 'Fence_None',\n",
       " 'Street_Pave',\n",
       " 'PoolQC_Fa',\n",
       " 'PoolQC_Gd',\n",
       " 'PoolQC_None',\n",
       " 'Exterior1st_AsphShn',\n",
       " 'Exterior1st_BrkComm',\n",
       " 'Exterior1st_BrkFace',\n",
       " 'Exterior1st_CBlock',\n",
       " 'Exterior1st_CemntBd',\n",
       " 'Exterior1st_HdBoard',\n",
       " 'Exterior1st_ImStucc',\n",
       " 'Exterior1st_MetalSd',\n",
       " 'Exterior1st_Plywood',\n",
       " 'Exterior1st_Stone',\n",
       " 'Exterior1st_Stucco',\n",
       " 'Exterior1st_VinylSd',\n",
       " 'Exterior1st_Wd Sdng',\n",
       " 'Exterior1st_WdShing',\n",
       " 'FullBath_1',\n",
       " 'FullBath_2',\n",
       " 'FullBath_3',\n",
       " 'BsmtFullBath_1',\n",
       " 'BsmtFullBath_2',\n",
       " 'BsmtFullBath_3',\n",
       " 'MSSubClass_30',\n",
       " 'MSSubClass_40',\n",
       " 'MSSubClass_45',\n",
       " 'MSSubClass_50',\n",
       " 'MSSubClass_60',\n",
       " 'MSSubClass_70',\n",
       " 'MSSubClass_75',\n",
       " 'MSSubClass_80',\n",
       " 'MSSubClass_85',\n",
       " 'MSSubClass_90',\n",
       " 'MSSubClass_120',\n",
       " 'MSSubClass_160',\n",
       " 'MSSubClass_180',\n",
       " 'MSSubClass_190',\n",
       " 'ExterCond_Fa',\n",
       " 'ExterCond_Gd',\n",
       " 'ExterCond_Po',\n",
       " 'ExterCond_TA',\n",
       " 'CentralAir_Y',\n",
       " 'HouseStyle_1.5Unf',\n",
       " 'HouseStyle_1Story',\n",
       " 'HouseStyle_2.5Fin',\n",
       " 'HouseStyle_2.5Unf',\n",
       " 'HouseStyle_2Story',\n",
       " 'HouseStyle_SFoyer',\n",
       " 'HouseStyle_SLvl',\n",
       " 'MSZoning_FV',\n",
       " 'MSZoning_RH',\n",
       " 'MSZoning_RL',\n",
       " 'MSZoning_RM',\n",
       " 'Exterior2nd_AsphShn',\n",
       " 'Exterior2nd_Brk Cmn',\n",
       " 'Exterior2nd_BrkFace',\n",
       " 'Exterior2nd_CBlock',\n",
       " 'Exterior2nd_CmentBd',\n",
       " 'Exterior2nd_HdBoard',\n",
       " 'Exterior2nd_ImStucc',\n",
       " 'Exterior2nd_MetalSd',\n",
       " 'Exterior2nd_Other',\n",
       " 'Exterior2nd_Plywood',\n",
       " 'Exterior2nd_Stone',\n",
       " 'Exterior2nd_Stucco',\n",
       " 'Exterior2nd_VinylSd',\n",
       " 'Exterior2nd_Wd Sdng',\n",
       " 'Exterior2nd_Wd Shng',\n",
       " 'LotShape_IR2',\n",
       " 'LotShape_IR3',\n",
       " 'LotShape_Reg',\n",
       " 'KitchenAbvGr_1',\n",
       " 'KitchenAbvGr_2',\n",
       " 'KitchenAbvGr_3',\n",
       " 'HalfBath_1',\n",
       " 'HalfBath_2',\n",
       " 'OverallCond_2',\n",
       " 'OverallCond_3',\n",
       " 'OverallCond_4',\n",
       " 'OverallCond_5',\n",
       " 'OverallCond_6',\n",
       " 'OverallCond_7',\n",
       " 'OverallCond_8',\n",
       " 'OverallCond_9',\n",
       " 'GarageQual_Fa',\n",
       " 'GarageQual_Gd',\n",
       " 'GarageQual_None',\n",
       " 'GarageQual_Po',\n",
       " 'GarageQual_TA',\n",
       " 'Electrical_FuseF',\n",
       " 'Electrical_FuseP',\n",
       " 'Electrical_Mix',\n",
       " 'Electrical_SBrkr',\n",
       " 'Foundation_CBlock',\n",
       " 'Foundation_PConc',\n",
       " 'Foundation_Slab',\n",
       " 'Foundation_Stone',\n",
       " 'Foundation_Wood',\n",
       " 'GarageType_Attchd',\n",
       " 'GarageType_Basment',\n",
       " 'GarageType_BuiltIn',\n",
       " 'GarageType_CarPort',\n",
       " 'GarageType_Detchd',\n",
       " 'GarageType_None',\n",
       " 'TotRmsAbvGrd_3',\n",
       " 'TotRmsAbvGrd_4',\n",
       " 'TotRmsAbvGrd_5',\n",
       " 'TotRmsAbvGrd_6',\n",
       " 'TotRmsAbvGrd_7',\n",
       " 'TotRmsAbvGrd_8',\n",
       " 'TotRmsAbvGrd_9',\n",
       " 'TotRmsAbvGrd_10',\n",
       " 'TotRmsAbvGrd_11',\n",
       " 'TotRmsAbvGrd_12',\n",
       " 'TotRmsAbvGrd_14',\n",
       " 'BldgType_2fmCon',\n",
       " 'BldgType_Duplex',\n",
       " 'BldgType_Twnhs',\n",
       " 'BldgType_TwnhsE',\n",
       " 'KitchenQual_Fa',\n",
       " 'KitchenQual_Gd',\n",
       " 'KitchenQual_TA',\n",
       " 'GarageCond_Fa',\n",
       " 'GarageCond_Gd',\n",
       " 'GarageCond_None',\n",
       " 'GarageCond_Po',\n",
       " 'GarageCond_TA',\n",
       " 'HeatingQC_Fa',\n",
       " 'HeatingQC_Gd',\n",
       " 'HeatingQC_Po',\n",
       " 'HeatingQC_TA',\n",
       " 'Neighborhood_Blueste',\n",
       " 'Neighborhood_BrDale',\n",
       " 'Neighborhood_BrkSide',\n",
       " 'Neighborhood_ClearCr',\n",
       " 'Neighborhood_CollgCr',\n",
       " 'Neighborhood_Crawfor',\n",
       " 'Neighborhood_Edwards',\n",
       " 'Neighborhood_Gilbert',\n",
       " 'Neighborhood_IDOTRR',\n",
       " 'Neighborhood_MeadowV',\n",
       " 'Neighborhood_Mitchel',\n",
       " 'Neighborhood_NAmes',\n",
       " 'Neighborhood_NPkVill',\n",
       " 'Neighborhood_NWAmes',\n",
       " 'Neighborhood_NoRidge',\n",
       " 'Neighborhood_NridgHt',\n",
       " 'Neighborhood_OldTown',\n",
       " 'Neighborhood_SWISU',\n",
       " 'Neighborhood_Sawyer',\n",
       " 'Neighborhood_SawyerW',\n",
       " 'Neighborhood_Somerst',\n",
       " 'Neighborhood_StoneBr',\n",
       " 'Neighborhood_Timber',\n",
       " 'Neighborhood_Veenker',\n",
       " 'OverallQual_2',\n",
       " 'OverallQual_3',\n",
       " 'OverallQual_4',\n",
       " 'OverallQual_5',\n",
       " 'OverallQual_6',\n",
       " 'OverallQual_7',\n",
       " 'OverallQual_8',\n",
       " 'OverallQual_9',\n",
       " 'OverallQual_10',\n",
       " 'SaleType_CWD',\n",
       " 'SaleType_Con',\n",
       " 'SaleType_ConLD',\n",
       " 'SaleType_ConLI',\n",
       " 'SaleType_ConLw',\n",
       " 'SaleType_New',\n",
       " 'SaleType_Oth',\n",
       " 'SaleType_WD',\n",
       " 'PavedDrive_P',\n",
       " 'PavedDrive_Y',\n",
       " 'BedroomAbvGr_1',\n",
       " 'BedroomAbvGr_2',\n",
       " 'BedroomAbvGr_3',\n",
       " 'BedroomAbvGr_4',\n",
       " 'BedroomAbvGr_5',\n",
       " 'BedroomAbvGr_6',\n",
       " 'BedroomAbvGr_8',\n",
       " 'BsmtFinType1_BLQ',\n",
       " 'BsmtFinType1_GLQ',\n",
       " 'BsmtFinType1_LwQ',\n",
       " 'BsmtFinType1_None',\n",
       " 'BsmtFinType1_Rec',\n",
       " 'BsmtFinType1_Unf',\n",
       " 'BsmtHalfBath_1',\n",
       " 'BsmtHalfBath_2',\n",
       " 'BsmtFinType2_BLQ',\n",
       " 'BsmtFinType2_GLQ',\n",
       " 'BsmtFinType2_LwQ',\n",
       " 'BsmtFinType2_None',\n",
       " 'BsmtFinType2_Rec',\n",
       " 'BsmtFinType2_Unf',\n",
       " 'SaleCondition_AdjLand',\n",
       " 'SaleCondition_Alloca',\n",
       " 'SaleCondition_Family',\n",
       " 'SaleCondition_Normal',\n",
       " 'SaleCondition_Partial',\n",
       " 'LotConfig_CulDSac',\n",
       " 'LotConfig_FR2',\n",
       " 'LotConfig_FR3',\n",
       " 'LotConfig_Inside',\n",
       " 'MiscFeature_None',\n",
       " 'MiscFeature_Othr',\n",
       " 'MiscFeature_Shed',\n",
       " 'MiscFeature_TenC',\n",
       " 'BsmtExposure_Gd',\n",
       " 'BsmtExposure_Mn',\n",
       " 'BsmtExposure_No',\n",
       " 'BsmtExposure_None',\n",
       " 'GarageFinish_None',\n",
       " 'GarageFinish_RFn',\n",
       " 'GarageFinish_Unf',\n",
       " 'BsmtCond_Gd',\n",
       " 'BsmtCond_None',\n",
       " 'BsmtCond_Po',\n",
       " 'BsmtCond_TA',\n",
       " 'Heating_GasA',\n",
       " 'Heating_GasW',\n",
       " 'Heating_Grav',\n",
       " 'Heating_OthW',\n",
       " 'Heating_Wall',\n",
       " 'MasVnrType_BrkFace',\n",
       " 'MasVnrType_None',\n",
       " 'MasVnrType_Stone',\n",
       " 'Condition1_Feedr',\n",
       " 'Condition1_Norm',\n",
       " 'Condition1_PosA',\n",
       " 'Condition1_PosN',\n",
       " 'Condition1_RRAe',\n",
       " 'Condition1_RRAn',\n",
       " 'Condition1_RRNe',\n",
       " 'Condition1_RRNn',\n",
       " 'Condition2_Feedr',\n",
       " 'Condition2_Norm',\n",
       " 'Condition2_PosA',\n",
       " 'Condition2_PosN',\n",
       " 'Condition2_RRAe',\n",
       " 'Condition2_RRAn',\n",
       " 'Condition2_RRNn',\n",
       " 'LandSlope_Mod',\n",
       " 'LandSlope_Sev',\n",
       " 'LandContour_HLS',\n",
       " 'LandContour_Low',\n",
       " 'LandContour_Lvl',\n",
       " 'Fireplaces_1',\n",
       " 'Fireplaces_2',\n",
       " 'Fireplaces_3',\n",
       " 'Alley_None',\n",
       " 'Alley_Pave',\n",
       " 'RoofMatl_CompShg',\n",
       " 'RoofMatl_Membran',\n",
       " 'RoofMatl_Metal',\n",
       " 'RoofMatl_Roll',\n",
       " 'RoofMatl_Tar&Grv',\n",
       " 'RoofMatl_WdShake',\n",
       " 'RoofMatl_WdShngl']"
      ]
     },
     "execution_count": 23,
     "metadata": {},
     "output_type": "execute_result"
    }
   ],
   "source": [
    "list(house_cat.columns)"
   ]
  },
  {
   "cell_type": "code",
   "execution_count": 24,
   "metadata": {},
   "outputs": [
    {
     "data": {
      "text/plain": [
       "0    208500\n",
       "1    181500\n",
       "2    223500\n",
       "3    140000\n",
       "4    250000\n",
       "Name: SalePrice, dtype: int64"
      ]
     },
     "execution_count": 24,
     "metadata": {},
     "output_type": "execute_result"
    }
   ],
   "source": [
    "x=house_cat.drop('SalePrice', 1)\n",
    "y=house_cat['SalePrice']\n",
    "y.head()"
   ]
  },
  {
   "cell_type": "markdown",
   "metadata": {},
   "source": [
    "### StandardScaler"
   ]
  },
  {
   "cell_type": "code",
   "execution_count": 25,
   "metadata": {},
   "outputs": [
    {
     "data": {
      "text/plain": [
       "Index(['LotFrontage', 'LotArea', 'MasVnrArea', 'BsmtFinSF1', 'BsmtFinSF2',\n",
       "       'BsmtUnfSF', 'LowQualFinSF', 'GrLivArea', 'GarageCars', 'GarageArea',\n",
       "       ...\n",
       "       'Fireplaces_3', 'Alley_None', 'Alley_Pave', 'RoofMatl_CompShg',\n",
       "       'RoofMatl_Membran', 'RoofMatl_Metal', 'RoofMatl_Roll',\n",
       "       'RoofMatl_Tar&Grv', 'RoofMatl_WdShake', 'RoofMatl_WdShngl'],\n",
       "      dtype='object', length=310)"
      ]
     },
     "execution_count": 25,
     "metadata": {},
     "output_type": "execute_result"
    }
   ],
   "source": [
    "from sklearn.preprocessing import StandardScaler\n",
    "\n",
    "# scale\n",
    "scaler = StandardScaler()\n",
    "scaler.fit(x)\n",
    "\n",
    "\n",
    "x.columns"
   ]
  },
  {
   "cell_type": "markdown",
   "metadata": {},
   "source": [
    "### test train split"
   ]
  },
  {
   "cell_type": "code",
   "execution_count": 26,
   "metadata": {},
   "outputs": [],
   "source": [
    "# Splitting the data into train and test\n",
    "from sklearn.model_selection import train_test_split\n",
    "X_train, X_test, y_train, y_test = train_test_split(x, y, train_size=0.7, test_size=0.3, random_state=2)"
   ]
  },
  {
   "cell_type": "code",
   "execution_count": 27,
   "metadata": {},
   "outputs": [
    {
     "data": {
      "text/plain": [
       "0.954221691281587"
      ]
     },
     "execution_count": 27,
     "metadata": {},
     "output_type": "execute_result"
    }
   ],
   "source": [
    "from sklearn.linear_model import LinearRegression\n",
    "from sklearn import linear_model\n",
    "from sklearn.linear_model import Lasso\n",
    "from  sklearn import *\n",
    "# linear regression\n",
    "lm = LinearRegression()\n",
    "lm.fit(X_train, y_train)\n",
    "\n",
    "# predict\n",
    "y_train_pred = lm.predict(X_train)\n",
    "metrics.r2_score(y_true=y_train, y_pred=y_train_pred)"
   ]
  },
  {
   "cell_type": "code",
   "execution_count": 28,
   "metadata": {},
   "outputs": [
    {
     "data": {
      "text/plain": [
       "0.6099845629799552"
      ]
     },
     "execution_count": 28,
     "metadata": {},
     "output_type": "execute_result"
    }
   ],
   "source": [
    "y_test_pred = lm.predict(X_test)\n",
    "metrics.r2_score(y_true=y_test, y_pred=y_test_pred)"
   ]
  },
  {
   "cell_type": "markdown",
   "metadata": {},
   "source": [
    "### the model has currenly over fitted we will use Regularzation to get better results"
   ]
  },
  {
   "cell_type": "markdown",
   "metadata": {},
   "source": [
    "### Regression"
   ]
  },
  {
   "cell_type": "markdown",
   "metadata": {},
   "source": [
    "### Lasso"
   ]
  },
  {
   "cell_type": "code",
   "execution_count": 29,
   "metadata": {},
   "outputs": [],
   "source": [
    "from sklearn import linear_model\n",
    "from sklearn.linear_model import LinearRegression\n",
    "from sklearn.linear_model import Ridge\n",
    "from sklearn.linear_model import Lasso\n",
    "from sklearn.model_selection import GridSearchCV\n"
   ]
  },
  {
   "cell_type": "markdown",
   "metadata": {},
   "source": [
    "## Ridge Regression"
   ]
  },
  {
   "cell_type": "code",
   "execution_count": 30,
   "metadata": {},
   "outputs": [
    {
     "name": "stdout",
     "output_type": "stream",
     "text": [
      "Fitting 5 folds for each of 11 candidates, totalling 55 fits\n"
     ]
    },
    {
     "name": "stderr",
     "output_type": "stream",
     "text": [
      "[Parallel(n_jobs=1)]: Done  55 out of  55 | elapsed:    1.1s finished\n"
     ]
    },
    {
     "data": {
      "text/plain": [
       "GridSearchCV(cv=5, error_score='raise',\n",
       "       estimator=Ridge(alpha=1.0, copy_X=True, fit_intercept=True, max_iter=None,\n",
       "   normalize=False, random_state=None, solver='auto', tol=0.001),\n",
       "       fit_params=None, iid=True, n_jobs=1,\n",
       "       param_grid={'alpha': [0.0001, 0.001, 0.01, 1, 10, 20, 30, 50, 80, 100, 10000]},\n",
       "       pre_dispatch='2*n_jobs', refit=True, return_train_score=True,\n",
       "       scoring='neg_mean_absolute_error', verbose=1)"
      ]
     },
     "execution_count": 30,
     "metadata": {},
     "output_type": "execute_result"
    }
   ],
   "source": [
    "# list of alphas to tune\n",
    "\n",
    "params = {'alpha':[.0001,.001,.01,1,10,20,30,50,80,100,10000]  }\n",
    "\n",
    "\n",
    "ridge = Ridge()\n",
    "\n",
    "# cross validation\n",
    "folds = 5\n",
    "model_cv = GridSearchCV(estimator = ridge, \n",
    "                        param_grid = params, \n",
    "                        scoring= 'neg_mean_absolute_error', \n",
    "                        cv = folds, \n",
    "                        return_train_score=True,\n",
    "                        verbose = 1)            \n",
    "model_cv.fit(X_train, y_train) "
   ]
  },
  {
   "cell_type": "code",
   "execution_count": 31,
   "metadata": {},
   "outputs": [
    {
     "data": {
      "text/html": [
       "<div>\n",
       "<style scoped>\n",
       "    .dataframe tbody tr th:only-of-type {\n",
       "        vertical-align: middle;\n",
       "    }\n",
       "\n",
       "    .dataframe tbody tr th {\n",
       "        vertical-align: top;\n",
       "    }\n",
       "\n",
       "    .dataframe thead th {\n",
       "        text-align: right;\n",
       "    }\n",
       "</style>\n",
       "<table border=\"1\" class=\"dataframe\">\n",
       "  <thead>\n",
       "    <tr style=\"text-align: right;\">\n",
       "      <th></th>\n",
       "      <th>mean_fit_time</th>\n",
       "      <th>std_fit_time</th>\n",
       "      <th>mean_score_time</th>\n",
       "      <th>std_score_time</th>\n",
       "      <th>param_alpha</th>\n",
       "      <th>params</th>\n",
       "      <th>split0_test_score</th>\n",
       "      <th>split1_test_score</th>\n",
       "      <th>split2_test_score</th>\n",
       "      <th>split3_test_score</th>\n",
       "      <th>...</th>\n",
       "      <th>mean_test_score</th>\n",
       "      <th>std_test_score</th>\n",
       "      <th>rank_test_score</th>\n",
       "      <th>split0_train_score</th>\n",
       "      <th>split1_train_score</th>\n",
       "      <th>split2_train_score</th>\n",
       "      <th>split3_train_score</th>\n",
       "      <th>split4_train_score</th>\n",
       "      <th>mean_train_score</th>\n",
       "      <th>std_train_score</th>\n",
       "    </tr>\n",
       "  </thead>\n",
       "  <tbody>\n",
       "    <tr>\n",
       "      <th>0</th>\n",
       "      <td>0.0182</td>\n",
       "      <td>0.0010</td>\n",
       "      <td>0.0010</td>\n",
       "      <td>0.0000</td>\n",
       "      <td>0.0001</td>\n",
       "      <td>{'alpha': 0.0001}</td>\n",
       "      <td>-19,389.8234</td>\n",
       "      <td>-20,995.2066</td>\n",
       "      <td>-19,121.4475</td>\n",
       "      <td>-16,689.0398</td>\n",
       "      <td>...</td>\n",
       "      <td>-18,923.4655</td>\n",
       "      <td>1,399.0628</td>\n",
       "      <td>10</td>\n",
       "      <td>-11,034.7396</td>\n",
       "      <td>-10,548.3237</td>\n",
       "      <td>-10,845.7661</td>\n",
       "      <td>-11,786.9184</td>\n",
       "      <td>-10,899.8409</td>\n",
       "      <td>-11,023.1177</td>\n",
       "      <td>413.6681</td>\n",
       "    </tr>\n",
       "    <tr>\n",
       "      <th>1</th>\n",
       "      <td>0.0190</td>\n",
       "      <td>0.0011</td>\n",
       "      <td>0.0012</td>\n",
       "      <td>0.0004</td>\n",
       "      <td>0.0010</td>\n",
       "      <td>{'alpha': 0.001}</td>\n",
       "      <td>-19,378.8043</td>\n",
       "      <td>-20,980.1590</td>\n",
       "      <td>-19,071.0738</td>\n",
       "      <td>-16,634.8383</td>\n",
       "      <td>...</td>\n",
       "      <td>-18,892.7857</td>\n",
       "      <td>1,411.4515</td>\n",
       "      <td>9</td>\n",
       "      <td>-11,036.0081</td>\n",
       "      <td>-10,550.8002</td>\n",
       "      <td>-10,848.5068</td>\n",
       "      <td>-11,789.5733</td>\n",
       "      <td>-10,900.2708</td>\n",
       "      <td>-11,025.0318</td>\n",
       "      <td>413.8275</td>\n",
       "    </tr>\n",
       "    <tr>\n",
       "      <th>2</th>\n",
       "      <td>0.0184</td>\n",
       "      <td>0.0010</td>\n",
       "      <td>0.0012</td>\n",
       "      <td>0.0004</td>\n",
       "      <td>0.0100</td>\n",
       "      <td>{'alpha': 0.01}</td>\n",
       "      <td>-19,251.3617</td>\n",
       "      <td>-20,841.9218</td>\n",
       "      <td>-18,795.7994</td>\n",
       "      <td>-16,306.0261</td>\n",
       "      <td>...</td>\n",
       "      <td>-18,680.5653</td>\n",
       "      <td>1,474.1892</td>\n",
       "      <td>8</td>\n",
       "      <td>-11,049.9946</td>\n",
       "      <td>-10,573.5502</td>\n",
       "      <td>-10,885.4505</td>\n",
       "      <td>-11,817.1548</td>\n",
       "      <td>-10,912.5786</td>\n",
       "      <td>-11,047.7457</td>\n",
       "      <td>415.0823</td>\n",
       "    </tr>\n",
       "    <tr>\n",
       "      <th>3</th>\n",
       "      <td>0.0178</td>\n",
       "      <td>0.0012</td>\n",
       "      <td>0.0008</td>\n",
       "      <td>0.0004</td>\n",
       "      <td>1</td>\n",
       "      <td>{'alpha': 1}</td>\n",
       "      <td>-17,893.9315</td>\n",
       "      <td>-18,924.3356</td>\n",
       "      <td>-16,901.6022</td>\n",
       "      <td>-14,243.0178</td>\n",
       "      <td>...</td>\n",
       "      <td>-16,697.0186</td>\n",
       "      <td>1,664.0294</td>\n",
       "      <td>3</td>\n",
       "      <td>-11,450.8951</td>\n",
       "      <td>-11,379.9328</td>\n",
       "      <td>-11,738.1106</td>\n",
       "      <td>-12,402.7530</td>\n",
       "      <td>-11,569.3020</td>\n",
       "      <td>-11,708.1987</td>\n",
       "      <td>367.8468</td>\n",
       "    </tr>\n",
       "    <tr>\n",
       "      <th>4</th>\n",
       "      <td>0.0172</td>\n",
       "      <td>0.0004</td>\n",
       "      <td>0.0008</td>\n",
       "      <td>0.0004</td>\n",
       "      <td>10</td>\n",
       "      <td>{'alpha': 10}</td>\n",
       "      <td>-17,110.2003</td>\n",
       "      <td>-18,599.3087</td>\n",
       "      <td>-16,368.7228</td>\n",
       "      <td>-14,425.7708</td>\n",
       "      <td>...</td>\n",
       "      <td>-16,187.6606</td>\n",
       "      <td>1,605.3570</td>\n",
       "      <td>1</td>\n",
       "      <td>-12,848.6666</td>\n",
       "      <td>-12,648.8689</td>\n",
       "      <td>-13,016.7933</td>\n",
       "      <td>-13,626.6170</td>\n",
       "      <td>-13,293.7238</td>\n",
       "      <td>-13,086.9339</td>\n",
       "      <td>342.8154</td>\n",
       "    </tr>\n",
       "  </tbody>\n",
       "</table>\n",
       "<p>5 rows × 21 columns</p>\n",
       "</div>"
      ],
      "text/plain": [
       "   mean_fit_time  std_fit_time  mean_score_time  std_score_time param_alpha  \\\n",
       "0         0.0182        0.0010           0.0010          0.0000      0.0001   \n",
       "1         0.0190        0.0011           0.0012          0.0004      0.0010   \n",
       "2         0.0184        0.0010           0.0012          0.0004      0.0100   \n",
       "3         0.0178        0.0012           0.0008          0.0004           1   \n",
       "4         0.0172        0.0004           0.0008          0.0004          10   \n",
       "\n",
       "              params  split0_test_score  split1_test_score  split2_test_score  \\\n",
       "0  {'alpha': 0.0001}       -19,389.8234       -20,995.2066       -19,121.4475   \n",
       "1   {'alpha': 0.001}       -19,378.8043       -20,980.1590       -19,071.0738   \n",
       "2    {'alpha': 0.01}       -19,251.3617       -20,841.9218       -18,795.7994   \n",
       "3       {'alpha': 1}       -17,893.9315       -18,924.3356       -16,901.6022   \n",
       "4      {'alpha': 10}       -17,110.2003       -18,599.3087       -16,368.7228   \n",
       "\n",
       "   split3_test_score       ...         mean_test_score  std_test_score  \\\n",
       "0       -16,689.0398       ...            -18,923.4655      1,399.0628   \n",
       "1       -16,634.8383       ...            -18,892.7857      1,411.4515   \n",
       "2       -16,306.0261       ...            -18,680.5653      1,474.1892   \n",
       "3       -14,243.0178       ...            -16,697.0186      1,664.0294   \n",
       "4       -14,425.7708       ...            -16,187.6606      1,605.3570   \n",
       "\n",
       "   rank_test_score  split0_train_score  split1_train_score  \\\n",
       "0               10        -11,034.7396        -10,548.3237   \n",
       "1                9        -11,036.0081        -10,550.8002   \n",
       "2                8        -11,049.9946        -10,573.5502   \n",
       "3                3        -11,450.8951        -11,379.9328   \n",
       "4                1        -12,848.6666        -12,648.8689   \n",
       "\n",
       "   split2_train_score  split3_train_score  split4_train_score  \\\n",
       "0        -10,845.7661        -11,786.9184        -10,899.8409   \n",
       "1        -10,848.5068        -11,789.5733        -10,900.2708   \n",
       "2        -10,885.4505        -11,817.1548        -10,912.5786   \n",
       "3        -11,738.1106        -12,402.7530        -11,569.3020   \n",
       "4        -13,016.7933        -13,626.6170        -13,293.7238   \n",
       "\n",
       "   mean_train_score  std_train_score  \n",
       "0      -11,023.1177         413.6681  \n",
       "1      -11,025.0318         413.8275  \n",
       "2      -11,047.7457         415.0823  \n",
       "3      -11,708.1987         367.8468  \n",
       "4      -13,086.9339         342.8154  \n",
       "\n",
       "[5 rows x 21 columns]"
      ]
     },
     "execution_count": 31,
     "metadata": {},
     "output_type": "execute_result"
    }
   ],
   "source": [
    "cv_results = pd.DataFrame(model_cv.cv_results_)\n",
    "cv_results = cv_results[cv_results['param_alpha']>0]\n",
    "cv_results.head()"
   ]
  },
  {
   "cell_type": "code",
   "execution_count": 32,
   "metadata": {},
   "outputs": [
    {
     "data": {
      "image/png": "[encoded data removed]",
      "text/plain": [
       "<matplotlib.figure.Figure at 0x1c4599935c0>"
      ]
     },
     "metadata": {},
     "output_type": "display_data"
    }
   ],
   "source": [
    "# plotting mean test and train scoes with alpha \n",
    "cv_results['param_alpha'] = cv_results['param_alpha'].astype('int32')\n",
    "\n",
    "# plotting\n",
    "plt.plot(cv_results['param_alpha'], cv_results['mean_train_score'])\n",
    "plt.plot(cv_results['param_alpha'], cv_results['mean_test_score'])\n",
    "plt.xlabel('alpha')\n",
    "plt.ylabel('Negative Mean Absolute Error')\n",
    "plt.title(\"Negative Mean Absolute Error and alpha\")\n",
    "plt.legend(['train score', 'test score'], loc='upper left')\n",
    "plt.show()"
   ]
  },
  {
   "cell_type": "code",
   "execution_count": 33,
   "metadata": {},
   "outputs": [
    {
     "data": {
      "text/plain": [
       "array([ 1.59355028e+02,  4.75259579e-01,  3.76926598e+01,  1.75019547e+01,\n",
       "       -9.67474669e+00, -1.08853466e+01, -2.88376171e+01,  1.96717254e+01,\n",
       "        1.58682791e+03,  2.88863592e+01,  2.00684893e+01,  1.75038573e+01,\n",
       "        2.25153812e+01,  2.31016585e+01,  4.95752498e+01,  2.09923661e+02,\n",
       "       -2.87093699e-01, -3.81935918e+02, -4.26749514e+02,  2.76957638e+00,\n",
       "       -1.21497181e+02,  4.54512040e+01, -1.26956363e+03,  7.17084867e+01,\n",
       "        1.72392924e+03, -9.74759608e+01, -7.52941118e+01, -8.75600447e+01,\n",
       "        4.50919388e+02, -4.31883576e+03,  8.34969488e+02, -2.95344398e+03,\n",
       "       -3.11045386e+02, -1.10143070e+03, -3.87927889e+03, -5.82857380e+01,\n",
       "       -4.38646428e+02, -1.18939520e+03, -4.93411107e+02, -2.71454889e+02,\n",
       "        3.16676364e+03, -6.08659823e+02,  4.02329918e+03, -2.12849587e+03,\n",
       "       -5.10206367e+02, -1.59685961e+03, -1.04876316e+00,  8.41580381e+02,\n",
       "       -1.69244736e+02,  2.08126550e+02,  3.11475096e+02,  0.00000000e+00,\n",
       "       -2.93415232e+02, -1.14804388e+01, -1.12953251e+01, -2.03231139e+02,\n",
       "        1.49642109e+03,  0.00000000e+00,  9.30984077e+02, -1.34249110e+03,\n",
       "        0.00000000e+00,  7.48392601e+01, -2.04406927e+03, -1.06721136e+02,\n",
       "        8.11869423e+02,  3.96795338e+02, -1.53712094e+02,  4.41170386e+02,\n",
       "        9.55916473e+02, -2.69178915e+03,  1.75855375e+03, -6.51100660e+02,\n",
       "       -3.78037821e+02,  4.00248250e+01,  4.55328186e+02,  2.44848896e+02,\n",
       "        4.83488592e+02,  1.17162653e+03,  6.05423907e+02,  1.23624769e+03,\n",
       "       -1.61014555e+02, -4.36588663e+02, -1.03246456e+02, -1.91967220e+03,\n",
       "       -3.13049191e+01, -9.19906880e+02,  7.82771279e+01, -4.62341290e+02,\n",
       "       -3.21249651e+02, -1.66678414e+01, -9.19846319e+01,  2.38917184e+02,\n",
       "        3.41070091e+02,  5.92728491e+02, -7.96271352e+02, -3.16700961e+02,\n",
       "       -3.22856966e+01,  2.84722011e+02, -2.77751126e+02, -5.98496316e+02,\n",
       "        6.54404302e+02, -2.24419440e+02,  1.48786409e+03, -1.36480014e+03,\n",
       "        2.42741501e+01, -3.66673891e+01,  4.29288630e+02,  0.00000000e+00,\n",
       "        9.81764054e+02, -1.44802778e+03,  2.81335546e+02,  1.60569872e+02,\n",
       "        2.15503577e+01, -2.50757528e+03,  2.77303483e+02,  5.58947221e+02,\n",
       "        3.89755153e+02,  6.13666414e+02,  4.57485881e+02, -9.42889916e+01,\n",
       "       -3.64107417e+02, -1.13124900e+03,  2.55572763e+03, -2.37182105e+03,\n",
       "       -1.96188246e+02,  1.36129587e+03, -8.36065349e+02, -1.36643382e+02,\n",
       "       -7.38974530e+02, -2.53731243e+03, -1.24188343e+03,  5.82772634e+01,\n",
       "        2.83100548e+03,  9.07806315e+02,  9.46705888e+02, -2.05721809e+02,\n",
       "        2.75558611e+02,  1.77355467e+00,  8.47089900e+01, -2.24422437e+02,\n",
       "        1.93072771e+02,  1.56225504e+01,  0.00000000e+00, -2.79551493e+02,\n",
       "       -3.22616646e+03,  1.90418957e+03,  3.72074360e+02,  4.49111206e+01,\n",
       "       -2.53248102e+02, -8.73758209e+02, -5.31937915e+02,  1.01653219e+03,\n",
       "       -3.59472842e+02,  1.46534475e+03,  1.77355467e+00,  3.08872293e+02,\n",
       "        9.81534823e+02,  1.30277028e+02, -6.57409549e+02, -1.69100463e+03,\n",
       "       -9.31007656e+02,  5.42948871e+02,  9.37677997e+02,  3.89257316e+02,\n",
       "        4.88073011e+01, -1.00966065e+02, -4.79062114e+02, -1.91967220e+03,\n",
       "       -3.01209119e+02, -4.55167586e+02, -4.32286006e+02, -2.68038587e+03,\n",
       "       -3.28116852e+03, -1.40197270e+02, -9.57608808e+01,  1.77355467e+00,\n",
       "       -6.39589866e+00,  1.72477405e+02,  1.13801158e+02, -3.96243740e+02,\n",
       "        4.16833141e+01, -2.87113736e+03,  5.88321518e+01,  9.65249445e+01,\n",
       "        1.71303833e+03, -9.00009085e+02, -1.59921720e+03,  2.61919989e+03,\n",
       "       -1.40355740e+03, -1.18088429e+02, -3.60248570e+02, -5.41063551e+02,\n",
       "       -1.60309059e+03, -9.00717153e+02,  2.43775687e+02, -1.18997858e+03,\n",
       "        7.09219759e+02,  3.76458366e+03, -6.59681271e+02,  2.97525682e+02,\n",
       "       -7.28106915e+02, -7.81221309e+02,  5.17023824e+02,  1.08368348e+03,\n",
       "       -6.54735577e+02,  4.27869394e+02,  1.17408531e+02, -9.80161414e+01,\n",
       "       -3.59229374e+02, -3.00422611e+03, -3.25653224e+03, -1.53249982e+03,\n",
       "        1.74247794e+03,  3.87801139e+03,  2.56057471e+03,  2.64504961e+02,\n",
       "        2.28160822e+02, -1.58645977e+02, -1.25133657e+02,  7.75588243e+01,\n",
       "        3.00435472e+03, -7.55021103e+01, -2.04538936e+03,  3.68975197e+02,\n",
       "        1.27078494e+02,  3.54314491e+02,  2.49240446e+03, -5.54200608e+02,\n",
       "       -4.31661877e+01, -1.70087692e+03, -6.08936250e+02, -1.00966065e+02,\n",
       "       -2.95900918e+02,  1.55872925e+03, -9.93266263e+02,  8.34969488e+02,\n",
       "       -1.14918884e+03,  1.88351493e+03, -4.30049737e+02, -3.74736469e+01,\n",
       "       -3.43114727e+02,  4.25746103e+02, -2.77908483e+02,  8.34969488e+02,\n",
       "       -9.94720550e+02, -2.46693467e+02,  3.56153159e+01, -3.02374490e+02,\n",
       "       -7.06333258e+02,  1.17292937e+02,  2.83432630e+03,  1.70176717e+03,\n",
       "       -4.72099881e+02,  3.59538819e+01, -6.15481065e+02, -7.56972182e+01,\n",
       "        1.07664681e+02,  6.98636447e+01,  0.00000000e+00,  3.69209171e+03,\n",
       "       -5.41102300e+02, -2.89829855e+03,  8.01281418e+02,  1.77355467e+00,\n",
       "       -1.95945284e+03, -5.61358225e+02,  8.03765499e+02,  8.34969488e+02,\n",
       "       -8.89811619e+01, -7.30773128e+02,  1.52134446e+02, -3.12164352e+02,\n",
       "        1.35099030e+02, -1.46617857e+02,  1.02388365e+02, -3.31353776e+03,\n",
       "        2.01302081e+03,  2.23984433e+03, -1.44999352e+03,  2.29897140e+03,\n",
       "        2.66674217e+01, -7.96391003e+01, -5.80906582e+02,  9.68629643e+01,\n",
       "       -6.40450883e+01,  1.27994385e+02,  7.23915941e+01, -9.69118641e+01,\n",
       "        1.90984941e+02,  0.00000000e+00, -1.78800745e+02, -1.39503552e+02,\n",
       "        1.31598619e+02,  8.10488759e+01, -6.70688759e+02,  1.07084584e+03,\n",
       "       -9.44566307e+02, -4.11185071e+02,  3.79756765e+02,  1.70089188e+03,\n",
       "        4.78472294e+01,  9.11258087e+02, -5.48734161e+02,  5.89785769e+02,\n",
       "        1.75540484e+02,  8.28666640e+01, -1.03573505e+02, -7.66204634e+02,\n",
       "       -1.49813211e+02,  1.71398432e+02])"
      ]
     },
     "execution_count": 33,
     "metadata": {},
     "output_type": "execute_result"
    }
   ],
   "source": [
    "alpha = 300\n",
    "ridge = Ridge(alpha=alpha)\n",
    "\n",
    "ridge.fit(X_train, y_train)\n",
    "ridge.coef_"
   ]
  },
  {
   "cell_type": "code",
   "execution_count": 34,
   "metadata": {},
   "outputs": [],
   "source": [
    "## Lasso"
   ]
  },
  {
   "cell_type": "code",
   "execution_count": 35,
   "metadata": {},
   "outputs": [
    {
     "name": "stdout",
     "output_type": "stream",
     "text": [
      "Fitting 5 folds for each of 15 candidates, totalling 75 fits\n"
     ]
    },
    {
     "name": "stderr",
     "output_type": "stream",
     "text": [
      "[Parallel(n_jobs=1)]: Done  75 out of  75 | elapsed:   38.8s finished\n"
     ]
    },
    {
     "data": {
      "text/plain": [
       "GridSearchCV(cv=5, error_score='raise',\n",
       "       estimator=Lasso(alpha=1.0, copy_X=True, fit_intercept=True, max_iter=1000,\n",
       "   normalize=False, positive=False, precompute=False, random_state=None,\n",
       "   selection='cyclic', tol=0.0001, warm_start=False),\n",
       "       fit_params=None, iid=True, n_jobs=1,\n",
       "       param_grid={'alpha': [0.0001, 1, 10, 100, 120, 110, 130, 135, 140, 150, 170, 180, 190, 200, 250]},\n",
       "       pre_dispatch='2*n_jobs', refit=True, return_train_score=True,\n",
       "       scoring='neg_mean_absolute_error', verbose=1)"
      ]
     },
     "execution_count": 35,
     "metadata": {},
     "output_type": "execute_result"
    }
   ],
   "source": [
    "params = {'alpha':[.0001,1,10,100,120,110,130,135,140,150,170,180,190,200,250]  }\n",
    "lasso = Lasso()\n",
    "\n",
    "# cross validation\n",
    "model_cv = GridSearchCV(estimator = lasso, \n",
    "                        param_grid = params, \n",
    "                        scoring= 'neg_mean_absolute_error', \n",
    "                        cv = folds, \n",
    "                        return_train_score=True,\n",
    "                        verbose = 1)            \n",
    "\n",
    "model_cv.fit(X_train, y_train) "
   ]
  },
  {
   "cell_type": "code",
   "execution_count": 36,
   "metadata": {},
   "outputs": [
    {
     "data": {
      "text/html": [
       "<div>\n",
       "<style scoped>\n",
       "    .dataframe tbody tr th:only-of-type {\n",
       "        vertical-align: middle;\n",
       "    }\n",
       "\n",
       "    .dataframe tbody tr th {\n",
       "        vertical-align: top;\n",
       "    }\n",
       "\n",
       "    .dataframe thead th {\n",
       "        text-align: right;\n",
       "    }\n",
       "</style>\n",
       "<table border=\"1\" class=\"dataframe\">\n",
       "  <thead>\n",
       "    <tr style=\"text-align: right;\">\n",
       "      <th></th>\n",
       "      <th>mean_fit_time</th>\n",
       "      <th>std_fit_time</th>\n",
       "      <th>mean_score_time</th>\n",
       "      <th>std_score_time</th>\n",
       "      <th>param_alpha</th>\n",
       "      <th>params</th>\n",
       "      <th>split0_test_score</th>\n",
       "      <th>split1_test_score</th>\n",
       "      <th>split2_test_score</th>\n",
       "      <th>split3_test_score</th>\n",
       "      <th>...</th>\n",
       "      <th>mean_test_score</th>\n",
       "      <th>std_test_score</th>\n",
       "      <th>rank_test_score</th>\n",
       "      <th>split0_train_score</th>\n",
       "      <th>split1_train_score</th>\n",
       "      <th>split2_train_score</th>\n",
       "      <th>split3_train_score</th>\n",
       "      <th>split4_train_score</th>\n",
       "      <th>mean_train_score</th>\n",
       "      <th>std_train_score</th>\n",
       "    </tr>\n",
       "  </thead>\n",
       "  <tbody>\n",
       "    <tr>\n",
       "      <th>0</th>\n",
       "      <td>0.4548</td>\n",
       "      <td>0.0314</td>\n",
       "      <td>0.0010</td>\n",
       "      <td>0.0000</td>\n",
       "      <td>0.0001</td>\n",
       "      <td>{'alpha': 0.0001}</td>\n",
       "      <td>-19,614.3144</td>\n",
       "      <td>-20,924.6817</td>\n",
       "      <td>-19,034.3826</td>\n",
       "      <td>-16,440.5264</td>\n",
       "      <td>...</td>\n",
       "      <td>-18,840.2981</td>\n",
       "      <td>1,494.2103</td>\n",
       "      <td>15</td>\n",
       "      <td>-11,043.3982</td>\n",
       "      <td>-10,547.9731</td>\n",
       "      <td>-10,870.2187</td>\n",
       "      <td>-11,820.1313</td>\n",
       "      <td>-10,914.2626</td>\n",
       "      <td>-11,039.1968</td>\n",
       "      <td>423.1641</td>\n",
       "    </tr>\n",
       "    <tr>\n",
       "      <th>1</th>\n",
       "      <td>0.4540</td>\n",
       "      <td>0.0315</td>\n",
       "      <td>0.0010</td>\n",
       "      <td>0.0000</td>\n",
       "      <td>1</td>\n",
       "      <td>{'alpha': 1}</td>\n",
       "      <td>-18,756.4962</td>\n",
       "      <td>-20,526.7609</td>\n",
       "      <td>-18,323.2401</td>\n",
       "      <td>-15,792.5695</td>\n",
       "      <td>...</td>\n",
       "      <td>-18,228.4865</td>\n",
       "      <td>1,531.7477</td>\n",
       "      <td>14</td>\n",
       "      <td>-11,075.8709</td>\n",
       "      <td>-10,604.9406</td>\n",
       "      <td>-10,955.7523</td>\n",
       "      <td>-11,881.1027</td>\n",
       "      <td>-10,946.4011</td>\n",
       "      <td>-11,092.8135</td>\n",
       "      <td>424.2474</td>\n",
       "    </tr>\n",
       "    <tr>\n",
       "      <th>2</th>\n",
       "      <td>0.5442</td>\n",
       "      <td>0.0166</td>\n",
       "      <td>0.0010</td>\n",
       "      <td>0.0000</td>\n",
       "      <td>10</td>\n",
       "      <td>{'alpha': 10}</td>\n",
       "      <td>-17,713.8516</td>\n",
       "      <td>-19,086.1863</td>\n",
       "      <td>-17,006.7811</td>\n",
       "      <td>-14,465.6065</td>\n",
       "      <td>...</td>\n",
       "      <td>-16,857.3507</td>\n",
       "      <td>1,559.0726</td>\n",
       "      <td>13</td>\n",
       "      <td>-11,366.8123</td>\n",
       "      <td>-11,070.0623</td>\n",
       "      <td>-11,497.7248</td>\n",
       "      <td>-12,226.5040</td>\n",
       "      <td>-11,288.9946</td>\n",
       "      <td>-11,490.0196</td>\n",
       "      <td>393.5540</td>\n",
       "    </tr>\n",
       "    <tr>\n",
       "      <th>3</th>\n",
       "      <td>0.5488</td>\n",
       "      <td>0.0258</td>\n",
       "      <td>0.0010</td>\n",
       "      <td>0.0000</td>\n",
       "      <td>100</td>\n",
       "      <td>{'alpha': 100}</td>\n",
       "      <td>-16,581.7101</td>\n",
       "      <td>-17,265.5781</td>\n",
       "      <td>-16,065.0852</td>\n",
       "      <td>-13,789.2361</td>\n",
       "      <td>...</td>\n",
       "      <td>-15,757.7396</td>\n",
       "      <td>1,214.3540</td>\n",
       "      <td>1</td>\n",
       "      <td>-13,006.6644</td>\n",
       "      <td>-12,870.0909</td>\n",
       "      <td>-13,053.2904</td>\n",
       "      <td>-13,748.4410</td>\n",
       "      <td>-13,396.9886</td>\n",
       "      <td>-13,215.0951</td>\n",
       "      <td>318.1808</td>\n",
       "    </tr>\n",
       "    <tr>\n",
       "      <th>4</th>\n",
       "      <td>0.5332</td>\n",
       "      <td>0.0127</td>\n",
       "      <td>0.0012</td>\n",
       "      <td>0.0004</td>\n",
       "      <td>120</td>\n",
       "      <td>{'alpha': 120}</td>\n",
       "      <td>-16,581.3341</td>\n",
       "      <td>-17,414.2958</td>\n",
       "      <td>-16,163.2686</td>\n",
       "      <td>-13,861.6517</td>\n",
       "      <td>...</td>\n",
       "      <td>-15,850.7023</td>\n",
       "      <td>1,217.7075</td>\n",
       "      <td>3</td>\n",
       "      <td>-13,266.2401</td>\n",
       "      <td>-13,116.0300</td>\n",
       "      <td>-13,309.9690</td>\n",
       "      <td>-13,921.5440</td>\n",
       "      <td>-13,625.8917</td>\n",
       "      <td>-13,447.9350</td>\n",
       "      <td>289.1998</td>\n",
       "    </tr>\n",
       "  </tbody>\n",
       "</table>\n",
       "<p>5 rows × 21 columns</p>\n",
       "</div>"
      ],
      "text/plain": [
       "   mean_fit_time  std_fit_time  mean_score_time  std_score_time param_alpha  \\\n",
       "0         0.4548        0.0314           0.0010          0.0000      0.0001   \n",
       "1         0.4540        0.0315           0.0010          0.0000           1   \n",
       "2         0.5442        0.0166           0.0010          0.0000          10   \n",
       "3         0.5488        0.0258           0.0010          0.0000         100   \n",
       "4         0.5332        0.0127           0.0012          0.0004         120   \n",
       "\n",
       "              params  split0_test_score  split1_test_score  split2_test_score  \\\n",
       "0  {'alpha': 0.0001}       -19,614.3144       -20,924.6817       -19,034.3826   \n",
       "1       {'alpha': 1}       -18,756.4962       -20,526.7609       -18,323.2401   \n",
       "2      {'alpha': 10}       -17,713.8516       -19,086.1863       -17,006.7811   \n",
       "3     {'alpha': 100}       -16,581.7101       -17,265.5781       -16,065.0852   \n",
       "4     {'alpha': 120}       -16,581.3341       -17,414.2958       -16,163.2686   \n",
       "\n",
       "   split3_test_score       ...         mean_test_score  std_test_score  \\\n",
       "0       -16,440.5264       ...            -18,840.2981      1,494.2103   \n",
       "1       -15,792.5695       ...            -18,228.4865      1,531.7477   \n",
       "2       -14,465.6065       ...            -16,857.3507      1,559.0726   \n",
       "3       -13,789.2361       ...            -15,757.7396      1,214.3540   \n",
       "4       -13,861.6517       ...            -15,850.7023      1,217.7075   \n",
       "\n",
       "   rank_test_score  split0_train_score  split1_train_score  \\\n",
       "0               15        -11,043.3982        -10,547.9731   \n",
       "1               14        -11,075.8709        -10,604.9406   \n",
       "2               13        -11,366.8123        -11,070.0623   \n",
       "3                1        -13,006.6644        -12,870.0909   \n",
       "4                3        -13,266.2401        -13,116.0300   \n",
       "\n",
       "   split2_train_score  split3_train_score  split4_train_score  \\\n",
       "0        -10,870.2187        -11,820.1313        -10,914.2626   \n",
       "1        -10,955.7523        -11,881.1027        -10,946.4011   \n",
       "2        -11,497.7248        -12,226.5040        -11,288.9946   \n",
       "3        -13,053.2904        -13,748.4410        -13,396.9886   \n",
       "4        -13,309.9690        -13,921.5440        -13,625.8917   \n",
       "\n",
       "   mean_train_score  std_train_score  \n",
       "0      -11,039.1968         423.1641  \n",
       "1      -11,092.8135         424.2474  \n",
       "2      -11,490.0196         393.5540  \n",
       "3      -13,215.0951         318.1808  \n",
       "4      -13,447.9350         289.1998  \n",
       "\n",
       "[5 rows x 21 columns]"
      ]
     },
     "execution_count": 36,
     "metadata": {},
     "output_type": "execute_result"
    }
   ],
   "source": [
    "cv_results = pd.DataFrame(model_cv.cv_results_)\n",
    "cv_results.head()"
   ]
  },
  {
   "cell_type": "code",
   "execution_count": 37,
   "metadata": {},
   "outputs": [
    {
     "data": {
      "image/png": "[encoded data removed]",
      "text/plain": [
       "<matplotlib.figure.Figure at 0x1c458900278>"
      ]
     },
     "metadata": {},
     "output_type": "display_data"
    }
   ],
   "source": [
    "# plotting mean test and train scoes with alpha \n",
    "cv_results['param_alpha'] = cv_results['param_alpha'].astype('float32')\n",
    "\n",
    "# plotting\n",
    "plt.plot(cv_results['param_alpha'], cv_results['mean_train_score'])\n",
    "plt.plot(cv_results['param_alpha'], cv_results['mean_test_score'])\n",
    "plt.xlabel('alpha')\n",
    "plt.ylabel('Negative Mean Absolute Error')\n",
    "\n",
    "plt.title(\"Negative Mean Absolute Error and alpha\")\n",
    "plt.legend(['train score', 'test score'], loc='upper left')\n",
    "plt.show()"
   ]
  },
  {
   "cell_type": "markdown",
   "metadata": {},
   "source": [
    "## 10 is a good alpha for  ridge and 100 for lasso"
   ]
  },
  {
   "cell_type": "code",
   "execution_count": 38,
   "metadata": {},
   "outputs": [
    {
     "data": {
      "text/plain": [
       "Lasso(alpha=100, copy_X=True, fit_intercept=True, max_iter=1000,\n",
       "   normalize=False, positive=False, precompute=False, random_state=None,\n",
       "   selection='cyclic', tol=0.0001, warm_start=False)"
      ]
     },
     "execution_count": 38,
     "metadata": {},
     "output_type": "execute_result"
    }
   ],
   "source": [
    "alpha =100\n",
    "\n",
    "lasso = Lasso(alpha=alpha)\n",
    "        \n",
    "lasso.fit(X_train, y_train) "
   ]
  },
  {
   "cell_type": "code",
   "execution_count": 39,
   "metadata": {
    "scrolled": true
   },
   "outputs": [],
   "source": [
    "#lasso.coef_[1]"
   ]
  },
  {
   "cell_type": "code",
   "execution_count": 40,
   "metadata": {},
   "outputs": [
    {
     "data": {
      "text/plain": [
       "Index(['LotFrontage', 'LotArea', 'MasVnrArea', 'BsmtFinSF1', 'BsmtFinSF2',\n",
       "       'BsmtUnfSF', 'GrLivArea', 'GarageCars', 'GarageArea', 'WoodDeckSF',\n",
       "       'OpenPorchSF', 'EnclosedPorch', '3SsnPorch', 'ScreenPorch', 'PoolArea',\n",
       "       'MiscVal', 'AgeGarageYrBlt', 'Functional_Min1', 'Functional_Typ',\n",
       "       'FireplaceQu_Gd', 'FireplaceQu_TA', 'Fence_MnPrv',\n",
       "       'Exterior1st_BrkFace', 'Exterior1st_Stucco', 'Exterior1st_VinylSd',\n",
       "       'FullBath_3', 'MSSubClass_50', 'MSSubClass_60', 'ExterCond_TA',\n",
       "       'CentralAir_Y', 'MSZoning_FV', 'MSZoning_RL', 'Exterior2nd_Stucco',\n",
       "       'Exterior2nd_VinylSd', 'KitchenAbvGr_1', 'HalfBath_1', 'OverallCond_7',\n",
       "       'OverallCond_8', 'OverallCond_9', 'Foundation_PConc',\n",
       "       'GarageType_BuiltIn', 'GarageType_Detchd', 'TotRmsAbvGrd_4',\n",
       "       'TotRmsAbvGrd_10', 'GarageCond_TA', 'Neighborhood_BrkSide',\n",
       "       'Neighborhood_Crawfor', 'Neighborhood_NoRidge', 'Neighborhood_NridgHt',\n",
       "       'Neighborhood_Somerst', 'Neighborhood_StoneBr', 'OverallQual_7',\n",
       "       'OverallQual_8', 'OverallQual_9', 'OverallQual_10', 'SaleType_New',\n",
       "       'BedroomAbvGr_2', 'BedroomAbvGr_4', 'BsmtFinType1_GLQ',\n",
       "       'BsmtFinType1_Unf', 'SaleCondition_Normal', 'LotConfig_CulDSac',\n",
       "       'BsmtExposure_Gd', 'MasVnrType_None', 'MasVnrType_Stone',\n",
       "       'Condition1_Norm', 'Fireplaces_2', 'Alley_None'],\n",
       "      dtype='object')"
      ]
     },
     "execution_count": 40,
     "metadata": {},
     "output_type": "execute_result"
    }
   ],
   "source": [
    "selcol=X_train.columns[lasso.coef_>0]\n",
    "selcoff=lasso.coef_[lasso.coef_>0]\n",
    "selcol"
   ]
  },
  {
   "cell_type": "code",
   "execution_count": 41,
   "metadata": {},
   "outputs": [],
   "source": [
    "sort_key=np.argsort(selcoff)"
   ]
  },
  {
   "cell_type": "code",
   "execution_count": 42,
   "metadata": {},
   "outputs": [],
   "source": [
    "#sorting col names asc\n",
    "sort_selcol=list(selcol[sort_key])\n",
    "sort_selcol.reverse()"
   ]
  },
  {
   "cell_type": "code",
   "execution_count": 43,
   "metadata": {},
   "outputs": [],
   "source": [
    "sorted_selcoff=sorted(selcoff, reverse = True)"
   ]
  },
  {
   "cell_type": "markdown",
   "metadata": {},
   "source": [
    "## Model Evaluation"
   ]
  },
  {
   "cell_type": "markdown",
   "metadata": {},
   "source": [
    "### Lasso"
   ]
  },
  {
   "cell_type": "code",
   "execution_count": 44,
   "metadata": {},
   "outputs": [],
   "source": [
    "from RegscorePy import *"
   ]
  },
  {
   "cell_type": "code",
   "execution_count": 45,
   "metadata": {},
   "outputs": [
    {
     "name": "stdout",
     "output_type": "stream",
     "text": [
      "0.940529279141964\n",
      "0.5790752720672148\n"
     ]
    }
   ],
   "source": [
    "# lasso regression\n",
    "lm = Lasso(alpha=100)\n",
    "lm.fit(X_train, y_train)\n",
    "\n",
    "# predict\n",
    "y_train_pred = lm.predict(X_train)\n",
    "print(metrics.r2_score(y_true=y_train, y_pred=y_train_pred))\n",
    "y_test_pred = lm.predict(X_test)\n",
    "print(metrics.r2_score(y_true=y_test, y_pred=y_test_pred))"
   ]
  },
  {
   "cell_type": "code",
   "execution_count": 46,
   "metadata": {},
   "outputs": [
    {
     "data": {
      "text/plain": [
       "10135.866150227406"
      ]
     },
     "execution_count": 46,
     "metadata": {},
     "output_type": "execute_result"
    }
   ],
   "source": [
    "aic.aic(y_test, y_test_pred, len(X_train.columns))#10016.732037917409"
   ]
  },
  {
   "cell_type": "code",
   "execution_count": 47,
   "metadata": {},
   "outputs": [
    {
     "data": {
      "text/plain": [
       "11401.354012444104"
      ]
     },
     "execution_count": 47,
     "metadata": {},
     "output_type": "execute_result"
    }
   ],
   "source": [
    "bic.bic(y_test, y_test_pred, len(X_train.columns))#11131.17780045018"
   ]
  },
  {
   "cell_type": "markdown",
   "metadata": {},
   "source": [
    "### Ridge"
   ]
  },
  {
   "cell_type": "code",
   "execution_count": 48,
   "metadata": {},
   "outputs": [
    {
     "name": "stdout",
     "output_type": "stream",
     "text": [
      "0.9428754627671225\n",
      "0.5605176879184399\n"
     ]
    }
   ],
   "source": [
    "# lasso regression\n",
    "lm = Ridge(alpha=10)\n",
    "lm.fit(X_train, y_train)\n",
    "\n",
    "# predict\n",
    "y_train_pred = lm.predict(X_train)\n",
    "print(metrics.r2_score(y_true=y_train, y_pred=y_train_pred))\n",
    "y_test_pred = lm.predict(X_test)\n",
    "print(metrics.r2_score(y_true=y_test, y_pred=y_test_pred))"
   ]
  },
  {
   "cell_type": "code",
   "execution_count": 49,
   "metadata": {},
   "outputs": [
    {
     "data": {
      "text/plain": [
       "10154.76297982903"
      ]
     },
     "execution_count": 49,
     "metadata": {},
     "output_type": "execute_result"
    }
   ],
   "source": [
    "aic.aic(y_test, y_test_pred, len(X_train.columns))"
   ]
  },
  {
   "cell_type": "code",
   "execution_count": 50,
   "metadata": {},
   "outputs": [
    {
     "data": {
      "text/plain": [
       "11420.250842045729"
      ]
     },
     "execution_count": 50,
     "metadata": {},
     "output_type": "execute_result"
    }
   ],
   "source": [
    "bic.bic(y_test, y_test_pred, len(X_train.columns))"
   ]
  },
  {
   "cell_type": "markdown",
   "metadata": {},
   "source": [
    "### the ridge and lasso models are almost same we will pick the lasso model as it will reduce the number of features"
   ]
  },
  {
   "cell_type": "code",
   "execution_count": null,
   "metadata": {},
   "outputs": [],
   "source": []
  },
  {
   "cell_type": "markdown",
   "metadata": {},
   "source": [
    "## Top 15 features with thier coff"
   ]
  },
  {
   "cell_type": "code",
   "execution_count": 51,
   "metadata": {},
   "outputs": [
    {
     "name": "stdout",
     "output_type": "stream",
     "text": [
      "OverallQual_10 : 79049.11872721901\n",
      "OverallQual_9 : 53647.17701005142\n",
      "SaleType_New : 24183.988491825963\n",
      "Neighborhood_Crawfor : 21246.97026685748\n",
      "BsmtExposure_Gd : 17966.48921069074\n",
      "FullBath_3 : 17272.56789477096\n",
      "OverallQual_8 : 17184.95054768383\n",
      "Neighborhood_NoRidge : 13800.036456575903\n",
      "Functional_Typ : 12548.138392781773\n",
      "KitchenAbvGr_1 : 12236.116678743167\n",
      "Neighborhood_NridgHt : 11381.242503697396\n",
      "Neighborhood_StoneBr : 11122.75435637028\n",
      "LotConfig_CulDSac : 10447.926901976587\n",
      "OverallCond_9 : 10378.29374881922\n",
      "OverallCond_7 : 9920.949667588104\n"
     ]
    }
   ],
   "source": [
    "for x,y in zip(sort_selcol[:15],sorted_selcoff[:15]):\n",
    "    print(x,\":\",y)"
   ]
  },
  {
   "cell_type": "code",
   "execution_count": null,
   "metadata": {},
   "outputs": [],
   "source": []
  }
 ],
 "metadata": {
  "kernelspec": {
   "display_name": "Python 3",
   "language": "python",
   "name": "python3"
  },
  "language_info": {
   "codemirror_mode": {
    "name": "ipython",
    "version": 3
   },
   "file_extension": ".py",
   "mimetype": "text/x-python",
   "name": "python",
   "nbconvert_exporter": "python",
   "pygments_lexer": "ipython3",
   "version": "3.6.3"
  }
 },
 "nbformat": 4,
 "nbformat_minor": 2
}
