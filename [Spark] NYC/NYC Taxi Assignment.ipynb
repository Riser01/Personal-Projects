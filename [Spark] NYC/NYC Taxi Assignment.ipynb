{
 "cells": [
  {
   "cell_type": "code",
   "execution_count": 1,
   "metadata": {},
   "outputs": [],
   "source": [
    "# We import the required modules from pyspark and create a SparkSession object\n",
    "\n",
    "from pyspark.sql import SparkSession\n",
    "from pyspark import SparkContext\n",
    "from pyspark.sql.types import StructField, StructType, StringType, LongType\n",
    "from pyspark.sql.functions import *\n",
    "from datetime import datetime\n",
    "from pyspark.sql.types import DateType\n",
    "\n",
    "spark = SparkSession \\\n",
    "    .builder \\\n",
    "    .appName(\"PySpark Assignment\") \\\n",
    "    .getOrCreate()"
   ]
  },
  {
   "cell_type": "code",
   "execution_count": 2,
   "metadata": {},
   "outputs": [],
   "source": [
    "# The dataset is imported in nyc dataframe\n",
    "\n",
    "nyc = spark.read.csv(\"/common_folder/nyc_parking/Parking_Violations_Issued_-_Fiscal_Year_2017.csv\", header=True)"
   ]
  },
  {
   "cell_type": "code",
   "execution_count": 3,
   "metadata": {},
   "outputs": [
    {
     "name": "stdout",
     "output_type": "stream",
     "text": [
      "root\n",
      " |-- Summons Number: string (nullable = true)\n",
      " |-- Plate ID: string (nullable = true)\n",
      " |-- Registration State: string (nullable = true)\n",
      " |-- Issue Date: string (nullable = true)\n",
      " |-- Violation Code: string (nullable = true)\n",
      " |-- Vehicle Body Type: string (nullable = true)\n",
      " |-- Vehicle Make: string (nullable = true)\n",
      " |-- Violation Precinct: string (nullable = true)\n",
      " |-- Issuer Precinct: string (nullable = true)\n",
      " |-- Violation Time: string (nullable = true)\n",
      "\n"
     ]
    }
   ],
   "source": [
    "# printSchema returns schema in tree format\n",
    "\n",
    "nyc.printSchema()"
   ]
  },
  {
   "cell_type": "code",
   "execution_count": 4,
   "metadata": {},
   "outputs": [
    {
     "data": {
      "text/plain": [
       "StructType(List(StructField(Summons Number,StringType,true),StructField(Plate ID,StringType,true),StructField(Registration State,StringType,true),StructField(Issue Date,StringType,true),StructField(Violation Code,StringType,true),StructField(Vehicle Body Type,StringType,true),StructField(Vehicle Make,StringType,true),StructField(Violation Precinct,StringType,true),StructField(Issuer Precinct,StringType,true),StructField(Violation Time,StringType,true)))"
      ]
     },
     "execution_count": 4,
     "metadata": {},
     "output_type": "execute_result"
    }
   ],
   "source": [
    "nyc.schema\n",
    "\n",
    "# Returns the schema of this DataFrame as a pyspark.sql.types.StructType."
   ]
  },
  {
   "cell_type": "code",
   "execution_count": 5,
   "metadata": {},
   "outputs": [
    {
     "name": "stdout",
     "output_type": "stream",
     "text": [
      "+--------------+--------+------------------+----------+--------------+-----------------+------------+------------------+---------------+--------------+\n",
      "|Summons Number|Plate ID|Registration State|Issue Date|Violation Code|Vehicle Body Type|Vehicle Make|Violation Precinct|Issuer Precinct|Violation Time|\n",
      "+--------------+--------+------------------+----------+--------------+-----------------+------------+------------------+---------------+--------------+\n",
      "|    5092469481| GZH7067|                NY|2016-07-10|             7|             SUBN|       TOYOT|                 0|              0|         0143A|\n",
      "|    5092451658| GZH7067|                NY|2016-07-08|             7|             SUBN|       TOYOT|                 0|              0|         0400P|\n",
      "|    4006265037| FZX9232|                NY|2016-08-23|             5|             SUBN|        FORD|                 0|              0|         0233P|\n",
      "|    8478629828| 66623ME|                NY|2017-06-14|            47|             REFG|       MITSU|                14|             14|         1120A|\n",
      "|    7868300310| 37033JV|                NY|2016-11-21|            69|             DELV|       INTER|                13|             13|         0555P|\n",
      "+--------------+--------+------------------+----------+--------------+-----------------+------------+------------------+---------------+--------------+\n",
      "only showing top 5 rows\n",
      "\n"
     ]
    }
   ],
   "source": [
    "# We print the first 5 rows of the dataframe\n",
    "\n",
    "nyc.show(5)"
   ]
  },
  {
   "cell_type": "code",
   "execution_count": 6,
   "metadata": {},
   "outputs": [
    {
     "name": "stdout",
     "output_type": "stream",
     "text": [
      "+--------------+--------+------------------+----------+--------------+-----------------+------------+------------------+---------------+--------------+\n",
      "|Summons Number|Plate ID|Registration State|Issue Date|Violation Code|Vehicle Body Type|Vehicle Make|Violation Precinct|Issuer Precinct|Violation Time|\n",
      "+--------------+--------+------------------+----------+--------------+-----------------+------------+------------------+---------------+--------------+\n",
      "|             0|       0|                 0|         0|             0|                0|           0|                 0|              0|             0|\n",
      "+--------------+--------+------------------+----------+--------------+-----------------+------------+------------------+---------------+--------------+\n",
      "\n"
     ]
    }
   ],
   "source": [
    "# Computing the missing values in the dataframe\n",
    "\n",
    "nyc.select([count(when(isnan(c) | col(c).isNull(), c)).alias(c) for c in nyc.columns]).show()"
   ]
  },
  {
   "cell_type": "code",
   "execution_count": 7,
   "metadata": {},
   "outputs": [],
   "source": [
    "# We filter the dataframe to consist of data only from the year 2017 as per the problem statement\n",
    "\n",
    "nyc = nyc.select('Summons Number','Plate ID','Issue Date','Registration State','Violation Code','Vehicle Body Type','Vehicle Make','Violation Precinct','Issuer Precinct','Violation Time').where(year(nyc['Issue Date']) == 2017)"
   ]
  },
  {
   "cell_type": "code",
   "execution_count": 8,
   "metadata": {},
   "outputs": [
    {
     "name": "stdout",
     "output_type": "stream",
     "text": [
      "+--------------+--------+----------+------------------+--------------+-----------------+------------+------------------+---------------+--------------+\n",
      "|Summons Number|Plate ID|Issue Date|Registration State|Violation Code|Vehicle Body Type|Vehicle Make|Violation Precinct|Issuer Precinct|Violation Time|\n",
      "+--------------+--------+----------+------------------+--------------+-----------------+------------+------------------+---------------+--------------+\n",
      "|    8478629828| 66623ME|2017-06-14|                NY|            47|             REFG|       MITSU|                14|             14|         1120A|\n",
      "|    5096917368| FZD8593|2017-06-13|                NY|             7|             SUBN|       ME/BE|                 0|              0|         0852P|\n",
      "|    1407740258| 2513JMG|2017-01-11|                NY|            78|             DELV|       FRUEH|               106|            106|         0015A|\n",
      "|    1413656420|T672371C|2017-02-04|                NY|            40|             TAXI|       TOYOT|                73|             73|         0525A|\n",
      "|    8480309064| 51771JW|2017-01-26|                NY|            64|              VAN|       INTER|                17|             17|         0256P|\n",
      "+--------------+--------+----------+------------------+--------------+-----------------+------------+------------------+---------------+--------------+\n",
      "only showing top 5 rows\n",
      "\n"
     ]
    }
   ],
   "source": [
    "# We print the first 5 rows of the dataframe which has only 2017 data\n",
    "\n",
    "nyc.show(5)"
   ]
  },
  {
   "cell_type": "markdown",
   "metadata": {},
   "source": [
    "# Examine the data"
   ]
  },
  {
   "cell_type": "markdown",
   "metadata": {},
   "source": [
    "## 1. Find the total number of tickets for the year."
   ]
  },
  {
   "cell_type": "code",
   "execution_count": 9,
   "metadata": {},
   "outputs": [
    {
     "data": {
      "text/plain": [
       "5431918"
      ]
     },
     "execution_count": 9,
     "metadata": {},
     "output_type": "execute_result"
    }
   ],
   "source": [
    "# Finding the total number of tickets for the year\n",
    "\n",
    "nyc.count()"
   ]
  },
  {
   "cell_type": "markdown",
   "metadata": {},
   "source": [
    "Total number of tickets for the year 2017 = 5431918"
   ]
  },
  {
   "cell_type": "markdown",
   "metadata": {},
   "source": [
    "## 2. Find out the number of unique states from where the cars that got parking tickets came."
   ]
  },
  {
   "cell_type": "code",
   "execution_count": 10,
   "metadata": {},
   "outputs": [
    {
     "name": "stdout",
     "output_type": "stream",
     "text": [
      "+------------------+------+\n",
      "|Registration State| count|\n",
      "+------------------+------+\n",
      "|                SC| 10395|\n",
      "|                AZ| 12379|\n",
      "|                NS|   322|\n",
      "|                LA|  1689|\n",
      "|                MN| 10083|\n",
      "|                NJ|475825|\n",
      "|                DC|  1929|\n",
      "|                OR|  2622|\n",
      "|                99| 16055|\n",
      "|                VA| 34367|\n",
      "|                RI|  5814|\n",
      "|                WY|   188|\n",
      "|                KY|  1795|\n",
      "|                BC|    54|\n",
      "|                NH|  4119|\n",
      "|                MI|  7231|\n",
      "|                GV|   348|\n",
      "|                NV|   725|\n",
      "|                QB|  1998|\n",
      "|                WI|  2127|\n",
      "+------------------+------+\n",
      "only showing top 20 rows\n",
      "\n"
     ]
    }
   ],
   "source": [
    "nyc_new = nyc.groupBy(\"Registration State\").count()\n",
    "nyc_new.show()"
   ]
  },
  {
   "cell_type": "code",
   "execution_count": 11,
   "metadata": {},
   "outputs": [],
   "source": [
    "# NJ has maximum state count. Hence, we will replace 99 by NJ\n",
    "\n",
    "nyc_unique = nyc.withColumn(\"Registration State\", when(col(\"Registration State\")==\"99\",\"NJ\").otherwise(nyc[\"Registration State\"]))"
   ]
  },
  {
   "cell_type": "code",
   "execution_count": 12,
   "metadata": {},
   "outputs": [
    {
     "name": "stdout",
     "output_type": "stream",
     "text": [
      "+------------------+------+\n",
      "|Registration State| count|\n",
      "+------------------+------+\n",
      "|                SC| 10395|\n",
      "|                AZ| 12379|\n",
      "|                NS|   322|\n",
      "|                LA|  1689|\n",
      "|                MN| 10083|\n",
      "|                NJ|491880|\n",
      "|                DC|  1929|\n",
      "|                OR|  2622|\n",
      "|                VA| 34367|\n",
      "|                RI|  5814|\n",
      "|                KY|  1795|\n",
      "|                WY|   188|\n",
      "|                BC|    54|\n",
      "|                NH|  4119|\n",
      "|                MI|  7231|\n",
      "|                NV|   725|\n",
      "|                GV|   348|\n",
      "|                QB|  1998|\n",
      "|                WI|  2127|\n",
      "|                ID|   763|\n",
      "+------------------+------+\n",
      "only showing top 20 rows\n",
      "\n"
     ]
    }
   ],
   "source": [
    "nyc_df = nyc_unique.groupBy(\"Registration State\").count()\n",
    "nyc_df.show()"
   ]
  },
  {
   "cell_type": "code",
   "execution_count": 13,
   "metadata": {},
   "outputs": [
    {
     "data": {
      "text/plain": [
       "64"
      ]
     },
     "execution_count": 13,
     "metadata": {},
     "output_type": "execute_result"
    }
   ],
   "source": [
    "nyc_unique.select(\"Registration State\").distinct().count()"
   ]
  },
  {
   "cell_type": "markdown",
   "metadata": {},
   "source": [
    "Number of unique states from where the cars that got parking tickets came = 64"
   ]
  },
  {
   "cell_type": "markdown",
   "metadata": {},
   "source": [
    "# Aggregation tasks"
   ]
  },
  {
   "cell_type": "markdown",
   "metadata": {},
   "source": [
    "## 1. How often does each violation code occur? Display the frequency of the top five violation codes."
   ]
  },
  {
   "cell_type": "code",
   "execution_count": 14,
   "metadata": {},
   "outputs": [
    {
     "name": "stdout",
     "output_type": "stream",
     "text": [
      "+--------------+------+\n",
      "|Violation Code| count|\n",
      "+--------------+------+\n",
      "|            21|768087|\n",
      "|            36|662765|\n",
      "|            38|542079|\n",
      "|            14|476664|\n",
      "|            20|319646|\n",
      "+--------------+------+\n",
      "only showing top 5 rows\n",
      "\n"
     ]
    }
   ],
   "source": [
    "nyc_unique.groupBy(\"Violation Code\").count().sort(desc(\"count\")).show(5)"
   ]
  },
  {
   "cell_type": "markdown",
   "metadata": {},
   "source": [
    "## 2.  How often does each 'vehicle body type' get a parking ticket? How about the 'vehicle make'? "
   ]
  },
  {
   "cell_type": "code",
   "execution_count": 15,
   "metadata": {},
   "outputs": [
    {
     "name": "stdout",
     "output_type": "stream",
     "text": [
      "+-----------------+-------+\n",
      "|Vehicle Body Type|  count|\n",
      "+-----------------+-------+\n",
      "|             SUBN|1883954|\n",
      "|             4DSD|1547312|\n",
      "|              VAN| 724029|\n",
      "|             DELV| 358984|\n",
      "|              SDN| 194197|\n",
      "+-----------------+-------+\n",
      "only showing top 5 rows\n",
      "\n"
     ]
    }
   ],
   "source": [
    "nyc_unique.groupBy(\"Vehicle Body Type\").count().sort(desc(\"count\")).show(5)"
   ]
  },
  {
   "cell_type": "code",
   "execution_count": 16,
   "metadata": {},
   "outputs": [
    {
     "name": "stdout",
     "output_type": "stream",
     "text": [
      "+------------+------+\n",
      "|Vehicle Make| count|\n",
      "+------------+------+\n",
      "|        FORD|636844|\n",
      "|       TOYOT|605291|\n",
      "|       HONDA|538884|\n",
      "|       NISSA|462017|\n",
      "|       CHEVR|356032|\n",
      "+------------+------+\n",
      "only showing top 5 rows\n",
      "\n"
     ]
    }
   ],
   "source": [
    "nyc_unique.groupBy(\"Vehicle Make\").count().sort(desc(\"count\")).show(5)"
   ]
  },
  {
   "cell_type": "markdown",
   "metadata": {},
   "source": [
    "## 3.  A precinct is a police station that has a certain zone of the city under its command. Find the (5 highest) frequencies of tickets for each of the following:"
   ]
  },
  {
   "cell_type": "markdown",
   "metadata": {},
   "source": [
    "### 'Violation Precinct' (This is the precinct of the zone where the violation occurred). Using this, can you draw any insights for parking violations in any specific areas of the city?"
   ]
  },
  {
   "cell_type": "code",
   "execution_count": 17,
   "metadata": {},
   "outputs": [
    {
     "name": "stdout",
     "output_type": "stream",
     "text": [
      "+------------------+------+\n",
      "|Violation Precinct| count|\n",
      "+------------------+------+\n",
      "|                 0|925596|\n",
      "|                19|274445|\n",
      "|                14|203553|\n",
      "|                 1|174702|\n",
      "|                18|169131|\n",
      "|               114|147444|\n",
      "+------------------+------+\n",
      "only showing top 6 rows\n",
      "\n"
     ]
    }
   ],
   "source": [
    "nyc_unique.groupBy(\"Violation Precinct\").count().sort(desc(\"count\")).show(6)"
   ]
  },
  {
   "cell_type": "markdown",
   "metadata": {},
   "source": [
    "### 'Issuer Precinct' (This is the precinct that issued the ticket.)"
   ]
  },
  {
   "cell_type": "code",
   "execution_count": 18,
   "metadata": {},
   "outputs": [
    {
     "name": "stdout",
     "output_type": "stream",
     "text": [
      "+---------------+-------+\n",
      "|Issuer Precinct|  count|\n",
      "+---------------+-------+\n",
      "|              0|1078406|\n",
      "|             19| 266961|\n",
      "|             14| 200495|\n",
      "|              1| 168740|\n",
      "|             18| 162994|\n",
      "|            114| 144054|\n",
      "+---------------+-------+\n",
      "only showing top 6 rows\n",
      "\n"
     ]
    }
   ],
   "source": [
    "nyc_unique.groupBy(\"Issuer Precinct\").count().sort(desc(\"count\")).show(6)"
   ]
  },
  {
   "cell_type": "markdown",
   "metadata": {},
   "source": [
    "## OBSERVATION:\n",
    "For the all three years, following Precincts have highest frequencies of Violating Precincts & Issuing Precincts.\n",
    " ### 19\n",
    " ### 14\n",
    " ### 1\n",
    " ### 18\n",
    " ### 114"
   ]
  },
  {
   "cell_type": "markdown",
   "metadata": {},
   "source": [
    "## 4. Find the violation code frequencies for three precincts that have issued the most number of tickets. Do these precinct zones have an exceptionally high frequency of certain violation codes? Are these codes common across precincts? "
   ]
  },
  {
   "cell_type": "code",
   "execution_count": 19,
   "metadata": {},
   "outputs": [
    {
     "name": "stdout",
     "output_type": "stream",
     "text": [
      "+------------------+------+\n",
      "|Violation Precinct| count|\n",
      "+------------------+------+\n",
      "|                 0|925596|\n",
      "|                19|274445|\n",
      "|                14|203553|\n",
      "|                 1|174702|\n",
      "+------------------+------+\n",
      "only showing top 4 rows\n",
      "\n"
     ]
    }
   ],
   "source": [
    "nyc_unique.groupBy(\"Violation Precinct\").count().sort(desc(\"count\")).show(4)"
   ]
  },
  {
   "cell_type": "code",
   "execution_count": 20,
   "metadata": {},
   "outputs": [],
   "source": [
    "nyc_unique.createOrReplaceTempView(\"violation_code_frequencies\")"
   ]
  },
  {
   "cell_type": "code",
   "execution_count": 21,
   "metadata": {},
   "outputs": [
    {
     "name": "stdout",
     "output_type": "stream",
     "text": [
      "+--------------+-----+\n",
      "|Violation Code|count|\n",
      "+--------------+-----+\n",
      "|            46|50785|\n",
      "|            38|37483|\n",
      "|            37|36468|\n",
      "|            14|30376|\n",
      "|            21|29415|\n",
      "+--------------+-----+\n",
      "only showing top 5 rows\n",
      "\n"
     ]
    }
   ],
   "source": [
    "# Violation Codes for Violation Precinct = 19\n",
    "\n",
    "violation_code_frequency_19 = spark.sql(\"SELECT `Violation Code`, COUNT(1) as count \\\n",
    "                                 FROM violation_code_frequencies WHERE `Violation Precinct` == 19 GROUP BY `Violation Code`  \\\n",
    "                                 ORDER BY count DESC\").show(5)"
   ]
  },
  {
   "cell_type": "code",
   "execution_count": 22,
   "metadata": {},
   "outputs": [
    {
     "name": "stdout",
     "output_type": "stream",
     "text": [
      "+--------------+-----+\n",
      "|Violation Code|count|\n",
      "+--------------+-----+\n",
      "|            14|45885|\n",
      "|            69|30465|\n",
      "|            31|22649|\n",
      "|            47|18691|\n",
      "|            42|10027|\n",
      "+--------------+-----+\n",
      "only showing top 5 rows\n",
      "\n"
     ]
    }
   ],
   "source": [
    "# Violation Codes for Violation Precinct = 14\n",
    "\n",
    "violation_code_frequency_14 = spark.sql(\"SELECT `Violation Code`, COUNT(1) as count \\\n",
    "                                 FROM violation_code_frequencies WHERE `Violation Precinct` == 14 GROUP BY `Violation Code`  \\\n",
    "                                 ORDER BY count DESC\").show(5)"
   ]
  },
  {
   "cell_type": "code",
   "execution_count": 23,
   "metadata": {},
   "outputs": [
    {
     "name": "stdout",
     "output_type": "stream",
     "text": [
      "+--------------+-----+\n",
      "|Violation Code|count|\n",
      "+--------------+-----+\n",
      "|            14|40226|\n",
      "|            16|19278|\n",
      "|            20|15743|\n",
      "|            46|13534|\n",
      "|            38| 8588|\n",
      "+--------------+-----+\n",
      "only showing top 5 rows\n",
      "\n"
     ]
    }
   ],
   "source": [
    "# Violation Codes for Violation Precinct = 1\n",
    "\n",
    "violation_code_frequency_1 = spark.sql(\"SELECT `Violation Code`, COUNT(1) as count \\\n",
    "                                 FROM violation_code_frequencies WHERE `Violation Precinct` == 1 GROUP BY `Violation Code`  \\\n",
    "                                 ORDER BY count DESC\").show(5)"
   ]
  },
  {
   "cell_type": "markdown",
   "metadata": {},
   "source": [
    "## 5.  Find out the properties of parking violations across different times of the day:"
   ]
  },
  {
   "cell_type": "markdown",
   "metadata": {},
   "source": [
    "### Find a way to deal with missing values, if any."
   ]
  },
  {
   "cell_type": "code",
   "execution_count": 24,
   "metadata": {},
   "outputs": [],
   "source": [
    "# ASSUMPTION:\n",
    "# Ignored Missing Values"
   ]
  },
  {
   "cell_type": "code",
   "execution_count": 25,
   "metadata": {},
   "outputs": [
    {
     "name": "stdout",
     "output_type": "stream",
     "text": [
      "+--------------+--------+----------+------------------+--------------+-----------------+------------+------------------+---------------+--------------+\n",
      "|Summons Number|Plate ID|Issue Date|Registration State|Violation Code|Vehicle Body Type|Vehicle Make|Violation Precinct|Issuer Precinct|Violation Time|\n",
      "+--------------+--------+----------+------------------+--------------+-----------------+------------+------------------+---------------+--------------+\n",
      "|             0|       0|         0|                 0|             0|                0|           0|                 0|              0|             0|\n",
      "+--------------+--------+----------+------------------+--------------+-----------------+------------+------------------+---------------+--------------+\n",
      "\n"
     ]
    }
   ],
   "source": [
    "# Computing the missing values in the dataframe\n",
    "\n",
    "nyc_unique.select([count(when(isnan(c) | col(c).isNull(), c)).alias(c) for c in nyc_unique.columns]).show()"
   ]
  },
  {
   "cell_type": "markdown",
   "metadata": {},
   "source": [
    "### The Violation Time field is specified in a strange format. Find a way to make this a time attribute that you can use to divide into groups."
   ]
  },
  {
   "cell_type": "code",
   "execution_count": 26,
   "metadata": {},
   "outputs": [],
   "source": [
    "nyc_unique.createOrReplaceTempView(\"violation_time_view\") "
   ]
  },
  {
   "cell_type": "code",
   "execution_count": 27,
   "metadata": {},
   "outputs": [],
   "source": [
    "# New column 'ViolationTime24Hr' is made which has only the Hour value of time in 24 Hours format\n",
    "\n",
    "violation_time_format = spark.sql(\"SELECT *, \\\n",
    "                                CASE \\\n",
    "                                    WHEN SUBSTR(TRIM(`Violation Time`), -1) == 'P' \\\n",
    "                                         THEN IF(SUBSTR(TRIM(`Violation Time`), 1, 2) == 12, SUBSTR(TRIM(`Violation Time`), 1, 2) + 0, SUBSTR(TRIM(`Violation Time`), 1, 2) + 12) \\\n",
    "                                    WHEN SUBSTR(TRIM(`Violation Time`), -1) == 'A' THEN SUBSTR(TRIM(`Violation Time`), 1, 2) + 0 \\\n",
    "                                END  AS ViolationTime24Hr \\\n",
    "                                FROM violation_time_view\") \\"
   ]
  },
  {
   "cell_type": "code",
   "execution_count": 28,
   "metadata": {},
   "outputs": [
    {
     "name": "stdout",
     "output_type": "stream",
     "text": [
      "+--------------+--------+----------+------------------+--------------+-----------------+------------+------------------+---------------+--------------+-----------------+\n",
      "|Summons Number|Plate ID|Issue Date|Registration State|Violation Code|Vehicle Body Type|Vehicle Make|Violation Precinct|Issuer Precinct|Violation Time|ViolationTime24Hr|\n",
      "+--------------+--------+----------+------------------+--------------+-----------------+------------+------------------+---------------+--------------+-----------------+\n",
      "|    8478629828| 66623ME|2017-06-14|                NY|            47|             REFG|       MITSU|                14|             14|         1120A|             11.0|\n",
      "|    5096917368| FZD8593|2017-06-13|                NY|             7|             SUBN|       ME/BE|                 0|              0|         0852P|             20.0|\n",
      "|    1407740258| 2513JMG|2017-01-11|                NY|            78|             DELV|       FRUEH|               106|            106|         0015A|              0.0|\n",
      "|    1413656420|T672371C|2017-02-04|                NY|            40|             TAXI|       TOYOT|                73|             73|         0525A|              5.0|\n",
      "|    8480309064| 51771JW|2017-01-26|                NY|            64|              VAN|       INTER|                17|             17|         0256P|             14.0|\n",
      "+--------------+--------+----------+------------------+--------------+-----------------+------------+------------------+---------------+--------------+-----------------+\n",
      "only showing top 5 rows\n",
      "\n"
     ]
    }
   ],
   "source": [
    "# We print the first 5 rows of the new dataframe which consists of the entire given dataframe along with column 'ViolationTime24Hr'\n",
    "\n",
    "violation_time_format.show(5)"
   ]
  },
  {
   "cell_type": "markdown",
   "metadata": {},
   "source": [
    "### Divide 24 hours into six equal discrete bins of time. Choose the intervals as you see fit. For each of these groups, find the three most commonly occurring violations."
   ]
  },
  {
   "cell_type": "markdown",
   "metadata": {},
   "source": [
    "### Considered Hour bins as below\n",
    "### Bin 1 -- 0 to 3 hrs\n",
    "### Bin 2 -- 4 to 7 hrs\n",
    "### Bin 3 -- 8 to 11 hrs\n",
    "### Bin 4 -- 12 to 15 hrs\n",
    "### Bin 5 -- 16 to 19 hrs\n",
    "### Bin 6 -- 20 to 23 hrs"
   ]
  },
  {
   "cell_type": "code",
   "execution_count": 29,
   "metadata": {},
   "outputs": [],
   "source": [
    "violation_time_format.createOrReplaceTempView(\"nyc_view\") "
   ]
  },
  {
   "cell_type": "code",
   "execution_count": 30,
   "metadata": {},
   "outputs": [],
   "source": [
    "# Hour Bin are created below\n",
    "\n",
    "violation_time_bin = spark.sql(\"SELECT *, \\\n",
    "                                CASE \\\n",
    "                                    WHEN (ViolationTime24Hr >= 0 AND ViolationTime24Hr <= 3) THEN 1  \\\n",
    "                                    WHEN (ViolationTime24Hr >= 4 AND ViolationTime24Hr <= 5) THEN 2  \\\n",
    "                                    WHEN (ViolationTime24Hr >= 6 AND ViolationTime24Hr <= 11) THEN 3 \\\n",
    "                                    WHEN (ViolationTime24Hr >= 12 AND ViolationTime24Hr <= 15) THEN 4 \\\n",
    "                                    WHEN (ViolationTime24Hr >= 16 AND ViolationTime24Hr <= 19) THEN 5 \\\n",
    "                                    WHEN (ViolationTime24Hr >= 20 AND ViolationTime24Hr <= 23) THEN 6 \\\n",
    "                                END  AS Hour_Bin \\\n",
    "                                FROM nyc_view\")"
   ]
  },
  {
   "cell_type": "code",
   "execution_count": 31,
   "metadata": {},
   "outputs": [
    {
     "name": "stdout",
     "output_type": "stream",
     "text": [
      "+--------------+--------+----------+------------------+--------------+-----------------+------------+------------------+---------------+--------------+-----------------+--------+\n",
      "|Summons Number|Plate ID|Issue Date|Registration State|Violation Code|Vehicle Body Type|Vehicle Make|Violation Precinct|Issuer Precinct|Violation Time|ViolationTime24Hr|Hour_Bin|\n",
      "+--------------+--------+----------+------------------+--------------+-----------------+------------+------------------+---------------+--------------+-----------------+--------+\n",
      "|    8478629828| 66623ME|2017-06-14|                NY|            47|             REFG|       MITSU|                14|             14|         1120A|             11.0|       3|\n",
      "|    5096917368| FZD8593|2017-06-13|                NY|             7|             SUBN|       ME/BE|                 0|              0|         0852P|             20.0|       6|\n",
      "|    1407740258| 2513JMG|2017-01-11|                NY|            78|             DELV|       FRUEH|               106|            106|         0015A|              0.0|       1|\n",
      "|    1413656420|T672371C|2017-02-04|                NY|            40|             TAXI|       TOYOT|                73|             73|         0525A|              5.0|       2|\n",
      "|    8480309064| 51771JW|2017-01-26|                NY|            64|              VAN|       INTER|                17|             17|         0256P|             14.0|       4|\n",
      "+--------------+--------+----------+------------------+--------------+-----------------+------------+------------------+---------------+--------------+-----------------+--------+\n",
      "only showing top 5 rows\n",
      "\n"
     ]
    }
   ],
   "source": [
    "# We print the first 5 rows of the new dataframe which consists of the dataframe from previous step along with column 'Hour_Bin'\n",
    "\n",
    "violation_time_bin.show(5)"
   ]
  },
  {
   "cell_type": "code",
   "execution_count": 32,
   "metadata": {},
   "outputs": [],
   "source": [
    "violation_time_bin.createOrReplaceTempView(\"nyc_view_1\")"
   ]
  },
  {
   "cell_type": "code",
   "execution_count": 33,
   "metadata": {},
   "outputs": [
    {
     "name": "stdout",
     "output_type": "stream",
     "text": [
      "+--------+--------------+-----+\n",
      "|Hour_Bin|Violation Code|count|\n",
      "+--------+--------------+-----+\n",
      "|       1|            21|34704|\n",
      "|       1|            40|23629|\n",
      "|       1|            14|14168|\n",
      "+--------+--------------+-----+\n",
      "\n"
     ]
    }
   ],
   "source": [
    "# Three most commonly occurring violations for Hour_bin=1\n",
    "\n",
    "violation_time_bin_1 = spark.sql(\"SELECT `Hour_Bin`, `Violation Code`, COUNT(1) As count \\\n",
    "                                        FROM nyc_view_1 \\\n",
    "                                        WHERE `Hour_Bin` = 1 \\\n",
    "                                        GROUP BY `Hour_Bin`, `Violation Code` \\\n",
    "                                        ORDER BY count DESC \\\n",
    "                                        LIMIT 3\").show()"
   ]
  },
  {
   "cell_type": "code",
   "execution_count": 34,
   "metadata": {},
   "outputs": [
    {
     "name": "stdout",
     "output_type": "stream",
     "text": [
      "+--------+--------------+-----+\n",
      "|Hour_Bin|Violation Code|count|\n",
      "+--------+--------------+-----+\n",
      "|       2|            40|14175|\n",
      "|       2|            14| 7860|\n",
      "|       2|            20| 7046|\n",
      "+--------+--------------+-----+\n",
      "\n"
     ]
    }
   ],
   "source": [
    "# Three most commonly occurring violations for Hour_bin=2\n",
    "\n",
    "violation_time_bin_2 = spark.sql(\"SELECT `Hour_Bin`, `Violation Code`, COUNT(1) As count \\\n",
    "                                        FROM nyc_view_1 \\\n",
    "                                        WHERE `Hour_Bin` = 2 \\\n",
    "                                        GROUP BY `Hour_Bin`, `Violation Code` \\\n",
    "                                        ORDER BY count DESC \\\n",
    "                                        LIMIT 3\").show()"
   ]
  },
  {
   "cell_type": "code",
   "execution_count": 35,
   "metadata": {},
   "outputs": [
    {
     "name": "stdout",
     "output_type": "stream",
     "text": [
      "+--------+--------------+------+\n",
      "|Hour_Bin|Violation Code| count|\n",
      "+--------+--------------+------+\n",
      "|       3|            21|652968|\n",
      "|       3|            36|362947|\n",
      "|       3|            14|215279|\n",
      "+--------+--------------+------+\n",
      "\n"
     ]
    }
   ],
   "source": [
    "# Three most commonly occurring violations for Hour_bin=3\n",
    "\n",
    "violation_time_bin_3 = spark.sql(\"SELECT `Hour_Bin`, `Violation Code`, COUNT(1) As count \\\n",
    "                                        FROM nyc_view_1 \\\n",
    "                                        WHERE `Hour_Bin` = 3 \\\n",
    "                                        GROUP BY `Hour_Bin`, `Violation Code` \\\n",
    "                                        ORDER BY count DESC \\\n",
    "                                        LIMIT 3\").show()"
   ]
  },
  {
   "cell_type": "code",
   "execution_count": 36,
   "metadata": {},
   "outputs": [
    {
     "name": "stdout",
     "output_type": "stream",
     "text": [
      "+--------+--------------+------+\n",
      "|Hour_Bin|Violation Code| count|\n",
      "+--------+--------------+------+\n",
      "|       4|            36|286284|\n",
      "|       4|            38|240795|\n",
      "|       4|            37|167044|\n",
      "+--------+--------------+------+\n",
      "\n"
     ]
    }
   ],
   "source": [
    "# Three most commonly occurring violations for Hour_bin=4\n",
    "\n",
    "violation_time_bin_4 = spark.sql(\"SELECT `Hour_Bin`, `Violation Code`, COUNT(1) As count \\\n",
    "                                        FROM nyc_view_1 \\\n",
    "                                        WHERE `Hour_Bin` = 4 \\\n",
    "                                        GROUP BY `Hour_Bin`, `Violation Code` \\\n",
    "                                        ORDER BY count DESC \\\n",
    "                                        LIMIT 3\").show()"
   ]
  },
  {
   "cell_type": "code",
   "execution_count": 37,
   "metadata": {},
   "outputs": [
    {
     "name": "stdout",
     "output_type": "stream",
     "text": [
      "+--------+--------------+------+\n",
      "|Hour_Bin|Violation Code| count|\n",
      "+--------+--------------+------+\n",
      "|       5|            38|102855|\n",
      "|       5|            14| 75902|\n",
      "|       5|            37| 70345|\n",
      "+--------+--------------+------+\n",
      "\n"
     ]
    }
   ],
   "source": [
    "# Three most commonly occurring violations for Hour_bin=5\n",
    "\n",
    "violation_time_bin_5 = spark.sql(\"SELECT `Hour_Bin`, `Violation Code`, COUNT(1) As count \\\n",
    "                                        FROM nyc_view_1 \\\n",
    "                                        WHERE `Hour_Bin` = 5 \\\n",
    "                                        GROUP BY `Hour_Bin`, `Violation Code` \\\n",
    "                                        ORDER BY count DESC \\\n",
    "                                        LIMIT 3\").show()"
   ]
  },
  {
   "cell_type": "code",
   "execution_count": 38,
   "metadata": {},
   "outputs": [
    {
     "name": "stdout",
     "output_type": "stream",
     "text": [
      "+--------+--------------+-----+\n",
      "|Hour_Bin|Violation Code|count|\n",
      "+--------+--------------+-----+\n",
      "|       6|             7|26293|\n",
      "|       6|            40|22337|\n",
      "|       6|            14|21045|\n",
      "+--------+--------------+-----+\n",
      "\n"
     ]
    }
   ],
   "source": [
    "# Three most commonly occurring violations for Hour_bin=6\n",
    "\n",
    "violation_time_bin_6 = spark.sql(\"SELECT `Hour_Bin`, `Violation Code`, COUNT(1) As count \\\n",
    "                                        FROM nyc_view_1 \\\n",
    "                                        WHERE `Hour_Bin` = 6 \\\n",
    "                                        GROUP BY `Hour_Bin`, `Violation Code` \\\n",
    "                                        ORDER BY count DESC \\\n",
    "                                        LIMIT 3\").show()"
   ]
  },
  {
   "cell_type": "markdown",
   "metadata": {},
   "source": [
    "### Now, try another direction. For the three most commonly occurring violation codes, find the most common time of the day (in terms of the bins from the previous part)"
   ]
  },
  {
   "cell_type": "code",
   "execution_count": 39,
   "metadata": {},
   "outputs": [],
   "source": [
    "violation_time_bin.createOrReplaceTempView(\"nyc_view_2\")"
   ]
  },
  {
   "cell_type": "code",
   "execution_count": 40,
   "metadata": {},
   "outputs": [
    {
     "name": "stdout",
     "output_type": "stream",
     "text": [
      "+--------------+------+\n",
      "|Violation Code| count|\n",
      "+--------------+------+\n",
      "|            21|768087|\n",
      "|            36|662765|\n",
      "|            38|542079|\n",
      "+--------------+------+\n",
      "only showing top 3 rows\n",
      "\n"
     ]
    }
   ],
   "source": [
    "violation_time_bin.groupBy(\"Violation Code\").count().sort(desc(\"count\")).show(3)"
   ]
  },
  {
   "cell_type": "code",
   "execution_count": 41,
   "metadata": {},
   "outputs": [
    {
     "name": "stdout",
     "output_type": "stream",
     "text": [
      "+--------------+-----------------+------+\n",
      "|Violation Code|ViolationTime24Hr| count|\n",
      "+--------------+-----------------+------+\n",
      "|            21|              8.0|190820|\n",
      "|            21|              9.0|187017|\n",
      "|            21|             11.0|167647|\n",
      "|            21|             12.0| 74616|\n",
      "|            21|              7.0| 52835|\n",
      "|            21|             10.0| 52585|\n",
      "+--------------+-----------------+------+\n",
      "\n"
     ]
    }
   ],
   "source": [
    "# The most common time of the day for Violation Code = 21\n",
    "\n",
    "violation_time_bin_21 = spark.sql(\"SELECT `Violation Code`, ViolationTime24Hr , COUNT(1) As count \\\n",
    "                                        FROM nyc_view_1 \\\n",
    "                                        WHERE `Violation Code` = 21 \\\n",
    "                                        GROUP BY `Violation Code`, ViolationTime24Hr \\\n",
    "                                        ORDER BY count DESC \\\n",
    "                                        LIMIT 6\").show()"
   ]
  },
  {
   "cell_type": "code",
   "execution_count": 42,
   "metadata": {},
   "outputs": [
    {
     "name": "stdout",
     "output_type": "stream",
     "text": [
      "+--------------+-----------------+------+\n",
      "|Violation Code|ViolationTime24Hr| count|\n",
      "+--------------+-----------------+------+\n",
      "|            36|             12.0|101991|\n",
      "|            36|             13.0| 98247|\n",
      "|            36|             11.0| 98077|\n",
      "|            36|             10.0| 97661|\n",
      "|            36|              9.0| 91261|\n",
      "|            36|              8.0| 61166|\n",
      "+--------------+-----------------+------+\n",
      "\n"
     ]
    }
   ],
   "source": [
    "# The most common time of the day for Violation Code = 36\n",
    "\n",
    "violation_time_bin_36 = spark.sql(\"SELECT `Violation Code`, ViolationTime24Hr , COUNT(1) As count \\\n",
    "                                        FROM nyc_view_1 \\\n",
    "                                        WHERE `Violation Code` = 36 \\\n",
    "                                        GROUP BY `Violation Code`, ViolationTime24Hr \\\n",
    "                                        ORDER BY count DESC \\\n",
    "                                        LIMIT 6\").show()"
   ]
  },
  {
   "cell_type": "code",
   "execution_count": 43,
   "metadata": {},
   "outputs": [
    {
     "name": "stdout",
     "output_type": "stream",
     "text": [
      "+--------------+-----------------+-----+\n",
      "|Violation Code|ViolationTime24Hr|count|\n",
      "+--------------+-----------------+-----+\n",
      "|            38|             13.0|73310|\n",
      "|            38|             14.0|68117|\n",
      "|            38|             12.0|56040|\n",
      "|            38|             10.0|54230|\n",
      "|            38|              9.0|53839|\n",
      "|            38|             16.0|49694|\n",
      "+--------------+-----------------+-----+\n",
      "\n"
     ]
    }
   ],
   "source": [
    "# The most common time of the day for Violation Code = 38\n",
    "\n",
    "violation_time_bin_38 = spark.sql(\"SELECT `Violation Code`, ViolationTime24Hr , COUNT(1) As count \\\n",
    "                                        FROM nyc_view_1 \\\n",
    "                                        WHERE `Violation Code` = 38 \\\n",
    "                                        GROUP BY `Violation Code`, ViolationTime24Hr \\\n",
    "                                        ORDER BY count DESC \\\n",
    "                                        LIMIT 6\").show()"
   ]
  },
  {
   "cell_type": "markdown",
   "metadata": {},
   "source": [
    "## 6. Let’s try and find some seasonality in this data:"
   ]
  },
  {
   "cell_type": "markdown",
   "metadata": {},
   "source": [
    "### First, divide the year into a certain number of seasons, and find the frequencies of tickets for each season."
   ]
  },
  {
   "cell_type": "code",
   "execution_count": 44,
   "metadata": {},
   "outputs": [],
   "source": [
    "# ASSUMPTION:\n",
    "# Considered Seasons as below\n",
    "# Season 1 -- January to March\n",
    "# Season 2 -- April to June\n",
    "# Season 3 -- July to September\n",
    "# Season 4 -- October to December"
   ]
  },
  {
   "cell_type": "code",
   "execution_count": 45,
   "metadata": {},
   "outputs": [],
   "source": [
    "nyc_month = violation_time_bin.select('Summons Number','Plate ID','Issue Date','Registration State','Violation Code','Vehicle Body Type','Vehicle Make','Violation Precinct','Issuer Precinct','Violation Time','ViolationTime24Hr','Hour_Bin',month(nyc['Issue Date']).alias('Month'))"
   ]
  },
  {
   "cell_type": "code",
   "execution_count": 46,
   "metadata": {
    "scrolled": true
   },
   "outputs": [
    {
     "name": "stdout",
     "output_type": "stream",
     "text": [
      "+--------------+--------+----------+------------------+--------------+-----------------+------------+------------------+---------------+--------------+-----------------+--------+-----+\n",
      "|Summons Number|Plate ID|Issue Date|Registration State|Violation Code|Vehicle Body Type|Vehicle Make|Violation Precinct|Issuer Precinct|Violation Time|ViolationTime24Hr|Hour_Bin|Month|\n",
      "+--------------+--------+----------+------------------+--------------+-----------------+------------+------------------+---------------+--------------+-----------------+--------+-----+\n",
      "|    8478629828| 66623ME|2017-06-14|                NY|            47|             REFG|       MITSU|                14|             14|         1120A|             11.0|       3|    6|\n",
      "|    5096917368| FZD8593|2017-06-13|                NY|             7|             SUBN|       ME/BE|                 0|              0|         0852P|             20.0|       6|    6|\n",
      "|    1407740258| 2513JMG|2017-01-11|                NY|            78|             DELV|       FRUEH|               106|            106|         0015A|              0.0|       1|    1|\n",
      "|    1413656420|T672371C|2017-02-04|                NY|            40|             TAXI|       TOYOT|                73|             73|         0525A|              5.0|       2|    2|\n",
      "|    8480309064| 51771JW|2017-01-26|                NY|            64|              VAN|       INTER|                17|             17|         0256P|             14.0|       4|    1|\n",
      "+--------------+--------+----------+------------------+--------------+-----------------+------------+------------------+---------------+--------------+-----------------+--------+-----+\n",
      "only showing top 5 rows\n",
      "\n"
     ]
    }
   ],
   "source": [
    "# A new column is extracted from the issue date column which stores the corresponding month\n",
    "\n",
    "nyc_month.show(5)"
   ]
  },
  {
   "cell_type": "code",
   "execution_count": 47,
   "metadata": {},
   "outputs": [],
   "source": [
    "nyc_month.createOrReplaceTempView(\"nyc_view_season\")"
   ]
  },
  {
   "cell_type": "code",
   "execution_count": 48,
   "metadata": {},
   "outputs": [],
   "source": [
    "# A new column is made from the which stores the corresponding season bin number\n",
    "\n",
    "season_bin = spark.sql(\"SELECT *, \\\n",
    "                                CASE \\\n",
    "                                    WHEN (`Month` >= 1 AND `Month` <= 3) THEN 1 \\\n",
    "                                    WHEN (`Month` >= 4 AND `Month` <= 6) THEN 2 \\\n",
    "                                    WHEN (`Month` >= 7 AND `Month` <= 9) THEN 3 \\\n",
    "                                    WHEN (`Month` >= 10 AND `Month` <= 12) THEN 4 \\\n",
    "                                END  AS bin_number \\\n",
    "                                FROM nyc_view_season\")"
   ]
  },
  {
   "cell_type": "code",
   "execution_count": 49,
   "metadata": {},
   "outputs": [
    {
     "name": "stdout",
     "output_type": "stream",
     "text": [
      "+--------------+--------+----------+------------------+--------------+-----------------+------------+------------------+---------------+--------------+-----------------+--------+-----+----------+\n",
      "|Summons Number|Plate ID|Issue Date|Registration State|Violation Code|Vehicle Body Type|Vehicle Make|Violation Precinct|Issuer Precinct|Violation Time|ViolationTime24Hr|Hour_Bin|Month|bin_number|\n",
      "+--------------+--------+----------+------------------+--------------+-----------------+------------+------------------+---------------+--------------+-----------------+--------+-----+----------+\n",
      "|    8478629828| 66623ME|2017-06-14|                NY|            47|             REFG|       MITSU|                14|             14|         1120A|             11.0|       3|    6|         2|\n",
      "|    5096917368| FZD8593|2017-06-13|                NY|             7|             SUBN|       ME/BE|                 0|              0|         0852P|             20.0|       6|    6|         2|\n",
      "|    1407740258| 2513JMG|2017-01-11|                NY|            78|             DELV|       FRUEH|               106|            106|         0015A|              0.0|       1|    1|         1|\n",
      "|    1413656420|T672371C|2017-02-04|                NY|            40|             TAXI|       TOYOT|                73|             73|         0525A|              5.0|       2|    2|         1|\n",
      "|    8480309064| 51771JW|2017-01-26|                NY|            64|              VAN|       INTER|                17|             17|         0256P|             14.0|       4|    1|         1|\n",
      "+--------------+--------+----------+------------------+--------------+-----------------+------------+------------------+---------------+--------------+-----------------+--------+-----+----------+\n",
      "only showing top 5 rows\n",
      "\n"
     ]
    }
   ],
   "source": [
    "season_bin.show(5)"
   ]
  },
  {
   "cell_type": "code",
   "execution_count": 50,
   "metadata": {},
   "outputs": [],
   "source": [
    "season_bin.createOrReplaceTempView(\"nyc_view_season_freq\")"
   ]
  },
  {
   "cell_type": "code",
   "execution_count": 51,
   "metadata": {},
   "outputs": [
    {
     "name": "stdout",
     "output_type": "stream",
     "text": [
      "+----------+-------------+\n",
      "|bin_number|total_tickets|\n",
      "+----------+-------------+\n",
      "|         1|      2669069|\n",
      "|         2|      2760833|\n",
      "|         3|         1046|\n",
      "|         4|          970|\n",
      "+----------+-------------+\n",
      "\n"
     ]
    }
   ],
   "source": [
    "spark.sql(\"SELECT bin_number, COUNT(`Summons Number`) AS total_tickets \\\n",
    "                                        FROM nyc_view_season_freq  \\\n",
    "                                        GROUP BY bin_number  \\\n",
    "                                        ORDER BY bin_number ASC\").show()"
   ]
  },
  {
   "cell_type": "markdown",
   "metadata": {},
   "source": [
    "### Then, find the three most common violations for each of these seasons."
   ]
  },
  {
   "cell_type": "code",
   "execution_count": 52,
   "metadata": {},
   "outputs": [],
   "source": [
    "# Below commands will return 3 most common violation codes for season bin_number=1 \n",
    "\n",
    "top_3_vios_bin_1 = spark.sql(\"select bin_number, `Violation Code`, count(`Summons Number`) as count_tckts \\\n",
    "from nyc_view_season_freq where bin_number == 1 \\\n",
    "group by bin_number, `Violation Code` order by bin_number, count_tckts desc limit 3\")"
   ]
  },
  {
   "cell_type": "code",
   "execution_count": 53,
   "metadata": {},
   "outputs": [
    {
     "name": "stdout",
     "output_type": "stream",
     "text": [
      "+----------+--------------+-----------+\n",
      "|bin_number|Violation Code|count_tckts|\n",
      "+----------+--------------+-----------+\n",
      "|         1|            21|     373874|\n",
      "|         1|            36|     348240|\n",
      "|         1|            38|     287000|\n",
      "+----------+--------------+-----------+\n",
      "\n"
     ]
    }
   ],
   "source": [
    "top_3_vios_bin_1.show()"
   ]
  },
  {
   "cell_type": "code",
   "execution_count": 54,
   "metadata": {},
   "outputs": [],
   "source": [
    "# Below commands will return 3 most common violation codes for season bin_number=2\n",
    "\n",
    "top_3_vios_bin_2 = spark.sql(\"select bin_number, `Violation Code`, count(`Summons Number`) as count_tckts \\\n",
    "from nyc_view_season_freq where bin_number == 2 \\\n",
    "group by bin_number, `Violation Code` order by bin_number, count_tckts desc limit 3\")"
   ]
  },
  {
   "cell_type": "code",
   "execution_count": 55,
   "metadata": {},
   "outputs": [
    {
     "name": "stdout",
     "output_type": "stream",
     "text": [
      "+----------+--------------+-----------+\n",
      "|bin_number|Violation Code|count_tckts|\n",
      "+----------+--------------+-----------+\n",
      "|         2|            21|     393885|\n",
      "|         2|            36|     314525|\n",
      "|         2|            38|     255064|\n",
      "+----------+--------------+-----------+\n",
      "\n"
     ]
    }
   ],
   "source": [
    "top_3_vios_bin_2.show()"
   ]
  },
  {
   "cell_type": "code",
   "execution_count": 56,
   "metadata": {},
   "outputs": [],
   "source": [
    "# Below commands will return 3 most common violation codes for season bin_number=3\n",
    "\n",
    "top_3_vios_bin_3 = spark.sql(\"select bin_number, `Violation Code`, count(`Summons Number`) as count_tckts \\\n",
    "from nyc_view_season_freq where bin_number == 3 \\\n",
    "group by bin_number, `Violation Code` order by bin_number, count_tckts desc limit 3\")"
   ]
  },
  {
   "cell_type": "code",
   "execution_count": 57,
   "metadata": {},
   "outputs": [
    {
     "name": "stdout",
     "output_type": "stream",
     "text": [
      "+----------+--------------+-----------+\n",
      "|bin_number|Violation Code|count_tckts|\n",
      "+----------+--------------+-----------+\n",
      "|         3|            21|        228|\n",
      "|         3|            46|        219|\n",
      "|         3|            40|        109|\n",
      "+----------+--------------+-----------+\n",
      "\n"
     ]
    }
   ],
   "source": [
    "top_3_vios_bin_3.show()"
   ]
  },
  {
   "cell_type": "code",
   "execution_count": 58,
   "metadata": {},
   "outputs": [],
   "source": [
    "# Below commands will return 3 most common violation codes for season bin_number=4 \n",
    "\n",
    "top_3_vios_bin_4 = spark.sql(\"select bin_number, `Violation Code`, count(`Summons Number`) as count_tckts \\\n",
    "from nyc_view_season_freq where bin_number == 4 \\\n",
    "group by bin_number, `Violation Code` order by bin_number, count_tckts desc limit 3\")"
   ]
  },
  {
   "cell_type": "code",
   "execution_count": 59,
   "metadata": {},
   "outputs": [
    {
     "name": "stdout",
     "output_type": "stream",
     "text": [
      "+----------+--------------+-----------+\n",
      "|bin_number|Violation Code|count_tckts|\n",
      "+----------+--------------+-----------+\n",
      "|         4|            46|        219|\n",
      "|         4|            40|        121|\n",
      "|         4|            21|        100|\n",
      "+----------+--------------+-----------+\n",
      "\n"
     ]
    }
   ],
   "source": [
    "top_3_vios_bin_4.show()"
   ]
  },
  {
   "cell_type": "markdown",
   "metadata": {},
   "source": [
    "Combinining All Results."
   ]
  },
  {
   "cell_type": "code",
   "execution_count": 60,
   "metadata": {},
   "outputs": [],
   "source": [
    "bin_1_2 = top_3_vios_bin_1.union(top_3_vios_bin_2)"
   ]
  },
  {
   "cell_type": "code",
   "execution_count": 61,
   "metadata": {},
   "outputs": [],
   "source": [
    "bin_3_4 = top_3_vios_bin_3.union(top_3_vios_bin_4)"
   ]
  },
  {
   "cell_type": "code",
   "execution_count": 62,
   "metadata": {},
   "outputs": [],
   "source": [
    "total_bin = bin_1_2.union(bin_3_4)"
   ]
  },
  {
   "cell_type": "code",
   "execution_count": 63,
   "metadata": {},
   "outputs": [
    {
     "name": "stdout",
     "output_type": "stream",
     "text": [
      "+----------+--------------+-----------+\n",
      "|bin_number|Violation Code|count_tckts|\n",
      "+----------+--------------+-----------+\n",
      "|         1|            21|     373874|\n",
      "|         1|            36|     348240|\n",
      "|         1|            38|     287000|\n",
      "|         2|            21|     393885|\n",
      "|         2|            36|     314525|\n",
      "|         2|            38|     255064|\n",
      "|         3|            21|        228|\n",
      "|         3|            46|        219|\n",
      "|         3|            40|        109|\n",
      "|         4|            46|        219|\n",
      "|         4|            40|        121|\n",
      "|         4|            21|        100|\n",
      "+----------+--------------+-----------+\n",
      "\n"
     ]
    }
   ],
   "source": [
    "total_bin.show()"
   ]
  },
  {
   "cell_type": "markdown",
   "metadata": {},
   "source": [
    "## 7. The fines collected from all the instances of parking violation constitute a source of revenue for the NYC Police Department. Let’s take an example of estimating this for the three most commonly occurring codes:"
   ]
  },
  {
   "cell_type": "markdown",
   "metadata": {},
   "source": [
    "### Find the total occurrences of the three most common violation codes."
   ]
  },
  {
   "cell_type": "code",
   "execution_count": 64,
   "metadata": {},
   "outputs": [
    {
     "name": "stdout",
     "output_type": "stream",
     "text": [
      "+--------------+--------+----------+------------------+--------------+-----------------+------------+------------------+---------------+--------------+-----------------+--------+-----+----------+\n",
      "|Summons Number|Plate ID|Issue Date|Registration State|Violation Code|Vehicle Body Type|Vehicle Make|Violation Precinct|Issuer Precinct|Violation Time|ViolationTime24Hr|Hour_Bin|Month|bin_number|\n",
      "+--------------+--------+----------+------------------+--------------+-----------------+------------+------------------+---------------+--------------+-----------------+--------+-----+----------+\n",
      "|    8478629828| 66623ME|2017-06-14|                NY|            47|             REFG|       MITSU|                14|             14|         1120A|             11.0|       3|    6|         2|\n",
      "|    5096917368| FZD8593|2017-06-13|                NY|             7|             SUBN|       ME/BE|                 0|              0|         0852P|             20.0|       6|    6|         2|\n",
      "|    1407740258| 2513JMG|2017-01-11|                NY|            78|             DELV|       FRUEH|               106|            106|         0015A|              0.0|       1|    1|         1|\n",
      "|    1413656420|T672371C|2017-02-04|                NY|            40|             TAXI|       TOYOT|                73|             73|         0525A|              5.0|       2|    2|         1|\n",
      "|    8480309064| 51771JW|2017-01-26|                NY|            64|              VAN|       INTER|                17|             17|         0256P|             14.0|       4|    1|         1|\n",
      "+--------------+--------+----------+------------------+--------------+-----------------+------------+------------------+---------------+--------------+-----------------+--------+-----+----------+\n",
      "only showing top 5 rows\n",
      "\n"
     ]
    }
   ],
   "source": [
    "season_bin.show(5)"
   ]
  },
  {
   "cell_type": "code",
   "execution_count": 65,
   "metadata": {},
   "outputs": [],
   "source": [
    "season_bin.createOrReplaceTempView(\"nyc_most_violation_code\")"
   ]
  },
  {
   "cell_type": "code",
   "execution_count": 66,
   "metadata": {},
   "outputs": [
    {
     "name": "stdout",
     "output_type": "stream",
     "text": [
      "+--------------+------+\n",
      "|Violation Code| count|\n",
      "+--------------+------+\n",
      "|            21|768087|\n",
      "|            36|662765|\n",
      "|            38|542079|\n",
      "+--------------+------+\n",
      "\n"
     ]
    }
   ],
   "source": [
    "# Total occurrences of the three most common violation codes\n",
    "\n",
    "violation_code_top_3 = spark.sql(\"SELECT `Violation Code`, COUNT(1) As count \\\n",
    "                                        FROM nyc_most_violation_code \\\n",
    "                                        GROUP BY `Violation Code` \\\n",
    "                                        ORDER BY count DESC \\\n",
    "                                        LIMIT 3\").show()"
   ]
  },
  {
   "cell_type": "markdown",
   "metadata": {},
   "source": [
    "### Then, visit the website:\n",
    "### http://www1.nyc.gov/site/finance/vehicles/services-violation-codes.page\n",
    "### It lists the fines associated with different violation codes. They’re divided into two categories: one for the highest-density locations in the city and the other for the rest of the city. For the sake of simplicity, take the average of the two."
   ]
  },
  {
   "cell_type": "code",
   "execution_count": 67,
   "metadata": {},
   "outputs": [],
   "source": [
    "# As per the Website, for Violation code = 21, \n",
    "# Manhattan 96th St. & below = $65 \n",
    "# All Other Areas = $45\n",
    "# Average fine for Violation code 21 = $55\n",
    "\n",
    "# As per the Website, for Violation code = 36, \n",
    "# Manhattan 96th St. & below = $50 \n",
    "# All Other Areas = $50\n",
    "# Average fine for Violation code 36 = $50\n",
    "\n",
    "# As per the Website, for Violation code = 38, \n",
    "# Manhattan 96th St. & below = $65 \n",
    "# All Other Areas = $35\n",
    "# Average fine for Violation code 38 = $50"
   ]
  },
  {
   "cell_type": "markdown",
   "metadata": {},
   "source": [
    "### Using this information, find the total amount collected for the three violation codes with the maximum tickets. State the code that has the highest total collection."
   ]
  },
  {
   "cell_type": "code",
   "execution_count": 68,
   "metadata": {},
   "outputs": [],
   "source": [
    "season_bin.createOrReplaceTempView(\"amount_violation_code\")"
   ]
  },
  {
   "cell_type": "code",
   "execution_count": 69,
   "metadata": {},
   "outputs": [],
   "source": [
    "# A new column fine_amount is created which will store the fine amount for corresponding Violation Code as per the website given\n",
    "\n",
    "fine_df = spark.sql(\"SELECT *, \\\n",
    "                           CASE WHEN `Violation Code` = 21 THEN 55  \\\n",
    "                           WHEN `Violation Code` = 36 THEN 50 \\\n",
    "                           WHEN `Violation Code` = 38 THEN 50 \\\n",
    "                           END  as fine_amount FROM amount_violation_code \\\n",
    "                           WHERE `Violation Code` = 21 OR `Violation Code` = 36 OR `Violation Code` = 38 \")"
   ]
  },
  {
   "cell_type": "code",
   "execution_count": 70,
   "metadata": {},
   "outputs": [
    {
     "name": "stdout",
     "output_type": "stream",
     "text": [
      "+--------------+--------+----------+------------------+--------------+-----------------+------------+------------------+---------------+--------------+-----------------+--------+-----+----------+-----------+\n",
      "|Summons Number|Plate ID|Issue Date|Registration State|Violation Code|Vehicle Body Type|Vehicle Make|Violation Precinct|Issuer Precinct|Violation Time|ViolationTime24Hr|Hour_Bin|Month|bin_number|fine_amount|\n",
      "+--------------+--------+----------+------------------+--------------+-----------------+------------+------------------+---------------+--------------+-----------------+--------+-----+----------+-----------+\n",
      "|    4630524241|  HJBP29|2017-02-03|                FL|            36|               4D|         BMW|                 0|              0|         1034A|             10.0|       3|    2|         1|         50|\n",
      "|    8505131836| 87155MA|2017-05-27|                NY|            38|              VAN|       CHEVR|                 1|              1|         1021A|             10.0|       3|    5|         2|         50|\n",
      "|    8357020770|  Y56DLT|2017-01-20|                NJ|            21|             4DSD|       CHEVR|               113|            113|         0148A|              1.0|       1|    1|         1|         55|\n",
      "|    7047487591| 50741JZ|2017-04-13|                NY|            38|             UTIL|         GMC|               115|            115|         1206P|             12.0|       4|    4|         2|         50|\n",
      "|    1419707358|  V97GVE|2017-02-18|                NJ|            21|             SUBN|       ME/BE|                60|              0|         0822A|              8.0|       3|    2|         1|         55|\n",
      "+--------------+--------+----------+------------------+--------------+-----------------+------------+------------------+---------------+--------------+-----------------+--------+-----+----------+-----------+\n",
      "only showing top 5 rows\n",
      "\n"
     ]
    }
   ],
   "source": [
    "fine_df.show(5)"
   ]
  },
  {
   "cell_type": "code",
   "execution_count": 71,
   "metadata": {},
   "outputs": [],
   "source": [
    "fine_df.createOrReplaceTempView(\"fine_total\")"
   ]
  },
  {
   "cell_type": "code",
   "execution_count": 72,
   "metadata": {},
   "outputs": [
    {
     "name": "stdout",
     "output_type": "stream",
     "text": [
      "+--------------+---------------+\n",
      "|Violation Code|Sum_Fine_Amount|\n",
      "+--------------+---------------+\n",
      "|            38|       27103950|\n",
      "|            36|       33138250|\n",
      "|            21|       42244785|\n",
      "+--------------+---------------+\n",
      "\n"
     ]
    }
   ],
   "source": [
    "total_fine_sql = spark.sql(\"select `Violation Code`, SUM(`fine_amount`) as Sum_Fine_Amount FROM fine_total \\\n",
    "                           GROUP BY `Violation Code`\").show()"
   ]
  },
  {
   "cell_type": "markdown",
   "metadata": {},
   "source": [
    "Violation Code that has the highest total collection = 21"
   ]
  },
  {
   "cell_type": "code",
   "execution_count": null,
   "metadata": {},
   "outputs": [],
   "source": []
  }
 ],
 "metadata": {
  "kernelspec": {
   "display_name": "PySpark",
   "language": "python",
   "name": "pyspark"
  },
  "language_info": {
   "codemirror_mode": {
    "name": "ipython",
    "version": 3
   },
   "file_extension": ".py",
   "mimetype": "text/x-python",
   "name": "python",
   "nbconvert_exporter": "python",
   "pygments_lexer": "ipython3",
   "version": "3.6.5"
  }
 },
 "nbformat": 4,
 "nbformat_minor": 2
}
